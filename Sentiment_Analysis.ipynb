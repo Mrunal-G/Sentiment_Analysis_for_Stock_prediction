{
 "cells": [
  {
   "cell_type": "code",
   "execution_count": 20,
   "id": "b84190b8",
   "metadata": {},
   "outputs": [
    {
     "data": {
      "text/html": [
       "<div>\n",
       "<style scoped>\n",
       "    .dataframe tbody tr th:only-of-type {\n",
       "        vertical-align: middle;\n",
       "    }\n",
       "\n",
       "    .dataframe tbody tr th {\n",
       "        vertical-align: top;\n",
       "    }\n",
       "\n",
       "    .dataframe thead th {\n",
       "        text-align: right;\n",
       "    }\n",
       "</style>\n",
       "<table border=\"1\" class=\"dataframe\">\n",
       "  <thead>\n",
       "    <tr style=\"text-align: right;\">\n",
       "      <th></th>\n",
       "      <th>Unnamed: 0</th>\n",
       "      <th>title</th>\n",
       "      <th>date</th>\n",
       "      <th>stock</th>\n",
       "    </tr>\n",
       "  </thead>\n",
       "  <tbody>\n",
       "    <tr>\n",
       "      <th>0</th>\n",
       "      <td>0</td>\n",
       "      <td>Stocks That Hit 52-Week Highs On Friday</td>\n",
       "      <td>2020-06-05 10:30:00-04:00</td>\n",
       "      <td>A</td>\n",
       "    </tr>\n",
       "    <tr>\n",
       "      <th>1</th>\n",
       "      <td>1</td>\n",
       "      <td>Stocks That Hit 52-Week Highs On Wednesday</td>\n",
       "      <td>2020-06-03 10:45:00-04:00</td>\n",
       "      <td>A</td>\n",
       "    </tr>\n",
       "    <tr>\n",
       "      <th>2</th>\n",
       "      <td>2</td>\n",
       "      <td>71 Biggest Movers From Friday</td>\n",
       "      <td>2020-05-26 04:30:00-04:00</td>\n",
       "      <td>A</td>\n",
       "    </tr>\n",
       "    <tr>\n",
       "      <th>3</th>\n",
       "      <td>3</td>\n",
       "      <td>46 Stocks Moving In Friday's Mid-Day Session</td>\n",
       "      <td>2020-05-22 12:45:00-04:00</td>\n",
       "      <td>A</td>\n",
       "    </tr>\n",
       "    <tr>\n",
       "      <th>4</th>\n",
       "      <td>4</td>\n",
       "      <td>B of A Securities Maintains Neutral on Agilent...</td>\n",
       "      <td>2020-05-22 11:38:00-04:00</td>\n",
       "      <td>A</td>\n",
       "    </tr>\n",
       "  </tbody>\n",
       "</table>\n",
       "</div>"
      ],
      "text/plain": [
       "   Unnamed: 0                                              title  \\\n",
       "0           0            Stocks That Hit 52-Week Highs On Friday   \n",
       "1           1         Stocks That Hit 52-Week Highs On Wednesday   \n",
       "2           2                      71 Biggest Movers From Friday   \n",
       "3           3       46 Stocks Moving In Friday's Mid-Day Session   \n",
       "4           4  B of A Securities Maintains Neutral on Agilent...   \n",
       "\n",
       "                        date stock  \n",
       "0  2020-06-05 10:30:00-04:00     A  \n",
       "1  2020-06-03 10:45:00-04:00     A  \n",
       "2  2020-05-26 04:30:00-04:00     A  \n",
       "3  2020-05-22 12:45:00-04:00     A  \n",
       "4  2020-05-22 11:38:00-04:00     A  "
      ]
     },
     "execution_count": 20,
     "metadata": {},
     "output_type": "execute_result"
    }
   ],
   "source": [
    "import pandas as pd \n",
    "\n",
    "df = pd.read_csv('./data/analyst_ratings_processed.csv', nrows=300)  # read the first 5000 (non-header) rows\n",
    "\n",
    "# original data shape: (1400469, 4)\n",
    "\n",
    "df.head(5)"
   ]
  },
  {
   "cell_type": "code",
   "execution_count": 21,
   "id": "dac46769",
   "metadata": {},
   "outputs": [],
   "source": [
    "import torch"
   ]
  },
  {
   "cell_type": "code",
   "execution_count": 22,
   "id": "12b5f913",
   "metadata": {},
   "outputs": [
    {
     "name": "stdout",
     "output_type": "stream",
     "text": [
      "2.0.1+cu117\n"
     ]
    }
   ],
   "source": [
    "print(torch.__version__)"
   ]
  },
  {
   "cell_type": "code",
   "execution_count": 23,
   "id": "b7e47ece",
   "metadata": {},
   "outputs": [
    {
     "name": "stdout",
     "output_type": "stream",
     "text": [
      "1\n"
     ]
    }
   ],
   "source": [
    "print(torch.cuda.device_count())"
   ]
  },
  {
   "cell_type": "code",
   "execution_count": 24,
   "id": "4dc9521b",
   "metadata": {},
   "outputs": [
    {
     "name": "stdout",
     "output_type": "stream",
     "text": [
      "NVIDIA GeForce RTX 3060 Laptop GPU\n"
     ]
    }
   ],
   "source": [
    "print(torch.cuda.get_device_name(0))"
   ]
  },
  {
   "cell_type": "code",
   "execution_count": 25,
   "id": "15f421f9",
   "metadata": {},
   "outputs": [
    {
     "name": "stdout",
     "output_type": "stream",
     "text": [
      "2.0.1+cu117\n"
     ]
    }
   ],
   "source": [
    "print(torch.__version__)"
   ]
  },
  {
   "cell_type": "code",
   "execution_count": 26,
   "id": "fcf002e6",
   "metadata": {},
   "outputs": [
    {
     "name": "stdout",
     "output_type": "stream",
     "text": [
      "['Agilent Reports FDA Approval For PD-L1 Companion Diagnostic On Dako Omni', 'Wells Fargo Maintains Overweight on Agilent Technologies, Raises Price Target to $95', 'Agilent Technologies Sees Q3 Adj. EPS $0.71-$0.73 vs $0.73 Est., Sales $1.225B-$1.245B vs $1.27B Est. Sees FY19 Adj. EPS $3.03-$3.07 vs $3.07 Est., Sales $5.085B-$5.125B vs $5.19B Est.', '7 Biggest Price Target Changes For Wednesday', 'Agilent Technologies Q3 Earnings Preview', 'Agilent Reports Purchase Of Luxcel Biosciences, No Terms Disclosed', \"Benzinga's Top Upgrades, Downgrades For March 15, 2019\", 'Agilent Companion Diagnostic Gains Expanded FDA Approval in Urothelial Carcinoma, PD-L1 IHC 22C3 pharmDx Now Approved to Identify Certain Urothelial Carcinoma Patients for Treatment With KEYTRUDA', 'Agilent Sees FY19 Adj. EPS $3-$3.05 vs $2.96 Estimate, Sales $5.13B-$5.17B vs $5.18B Est.', 'Earnings Scheduled For August 15, 2017', 'JP Morgan Healthcare Conference Continues Today, Presenters Include: Bluebird Bio, Agilent, Insulet, Cigna, DexCom, Eli Lilly, LifePoint, Acadia, Alkermes, Juno Therapeutics', 'Earnings Scheduled For November 25, 2019', 'Agilent Reaffirms FY20 Guidance: Adj. EPS $3.38-$3.43 vs $3.42 Estimate, Sales $5.5B-$5.55B vs $5.54B Est.', 'Agilent Reports Scientific Partnership with the University of Southern California', 'Agilent Announces Settlement of Key Intellectual Property Case in China', '5 Biggest Price Target Changes For Wednesday', \"26 Stocks Moving In Tuesday's Pre-Market Session\", 'Needham Downgrades Agilent Technologies to Hold, Announces $85 Price Target', 'Agilent Technologies Q2 EPS $0.65 Beats $0.64 Estimate, Sales $1.206B Miss $1.21B Estimate', 'A Peek Into The Markets: US Stock Futures Tumble Ahead Of Economic Reports', 'Agilent Sees Q4 Adj. EPS $0.60-$0.62 vs $0.60 Est., Sales $1.15B-$1.17B vs $1.15B Est.; FY17 Adj. EPS $2.29-$2.31 vs $2.23 Est., Sales $4.435B-$4.455B vs $4.41B Est.', 'Shares of several healthcare companies are trading lower in sympathy with the overall market. The S&P 500 is trading lower 1%', 'Stocks That Hit 52-Week Highs On Friday', 'Morgan Stanley Maintains Overweight on Agilent Technologies, Raises Price Target to $89', '7 Stocks To Watch For November 20, 2017', 'Earnings Scheduled For November 15, 2016', '13F Filing From Tiger Global Shows Dissolved Stake In Activision, Agilent, Altria, and American Express', \"Shares of several basic materials companies are trading higher, rebounding following Thursday's crash. The sector has been volatile amid the coronavirus outbreak, which has disrupted economic activity. NOTE: While markets rebound, virus fears persist.\", '7 Stocks To Watch For November 25, 2019', 'A Peek Into The Markets: U.S. Stock Futures Decline Ahead Of Economic Data', 'Agilent Technologies shares are trading higher after the company reported better-than-expected Q2 EPS and sales results.', 'Shares of several healthcare companies are trading higher in sympathy with the overall market as it rebounds from a selloff caused by coronavirus fears.', 'UPDATE: Agilent Raises FY17 Adj. EPS Outlook to $2.15-$2.21 vs $2.16 Est., Sales to $4.36B-$4.38B vs $4.35B Est.', 'Q3 Earnings Preview For Agilent Technologies', 'Agilent Withdraws Q2 And FY20 Guidance', \"Benzinga Pro's Top 10 Most-Searched Tickers For Morning of Tuesday, July 16, 2019\", 'Keep an Eye on These 8 Stocks for November 16, 2016', \"20 Stocks Moving In Tuesday's Pre-Market Session\", 'Bank of America Maintains Buy on Agilent Technologies, Inc. Common Stock, Lowers Price Target to $82', '12 Biggest Mid-Day Gainers For Wednesday', '10 Biggest Price Target Changes For Friday', 'Agilent Technologies Sees Q4 Adj. EPS $0.84-$0.86 vs $0.87 Est., Sales $1.31B-$1.33B vs $1.34B Est., Sees FY19 Adj. EPS $3.07-$3.08 vs $3.05 Est., Sales $5.105B-$5.125B vs $5.11B Est.', 'Q1 13F Roundup: How Buffett, Einhorn, Ackman And Others Adjusted Their Portfolios', 'Agilent, Nanyang Technological University Singapore to Develop Novel Approaches for Water Analysis', 'UBS Downgrades Agilent Technologies to Neutral, Announces $82 Price Target', 'Alnylam Pharma 8-K Shows Co. Entered Manufacturing Services Deal With Agilent For Providing Of Commercial Supply Of Patisiran', 'The Week Ahead: Coindesk Conference, Walmart And Retailers Close Out Earnings Season', 'Shares of several healthcare companies are trading higher as markets gain amid optimism that coronavirus cases in several US hotspots may be peaking. A sooner peak could mean a sooner return to economic activity.', 'Agilent Technologies to Acquire Advanced Analytical Technologies for $250M in Cash', 'Agilent Technologies To Acquire ACEA Biosciences; Financial Terms Not Disclosed', \"Benzinga's Top Upgrades, Downgrades For February 24, 2020\", 'Stocks That Hit 52-Week Highs On Friday', 'Agilent to Buy Multiplicom for €68M in Cash', 'Earnings Scheduled For May 22, 2017', 'Citigroup Maintains Neutral on Agilent Technologies, Lowers Price Target to $75', 'Earnings Scheduled For November 19, 2018', 'UBS Initiates Coverage On Agilent Technologies with Buy Rating, Announces $92 Price Target', 'Agilent Companion Diagnostic Receives Expanded FDA Approval For PD-L1 IHC 22C3 PharmDx', 'Stocks That Hit 52-Week Highs On Wednesday', '5 Biggest Price Target Changes For Tuesday', 'Pot Stocks, ETFs, Top News And Data From The Cannabis Industry This Week', 'Stocks That Hit 52-Week Lows On Monday', 'Agilent To Purchase BioTek Instruments For $1.165B', 'Agilent Technologies shares are trading higher after the company reported better-than-expected Q3 EPS and sales results. The company also issued FY19 EPS above analyst estimates.', '10 Stocks To Watch For August 14, 2018', 'UPDATE: Alnylam, Agilent Deal Has Initial Term Of 5 Years, With Automatic Renewal Terms OF 2 Years Absent Earlier Termination, No Further Terms Disclosed', 'Agilent Sees FY18 Adj. EPS $2.50-$2.56 vs $2.59 Est., Sales $4.72B-$4.74B vs $4.73B Est.', '10 Stocks To Watch For August 15, 2017', 'Shares of Agilent Technologies are trading up 6% after the company beat Q4 Earnings estimates and issued upbeat FY19 guidance.', \"46 Stocks Moving In Friday's Mid-Day Session\", 'Barclays Maintains Equal-Weight on Agilent Technologies, Lowers Price Target to $76', '9 Stocks To Watch For February 18, 2020', '50 Biggest Movers From Yesterday', \"Shares of several gold companies are trading higher amid heightened US-China trade tensions. Concerns of a trade war have led investors into 'safe-haven' assets such as gold.\", 'Wells Fargo Maintains Overweight on Agilent Technologies, Lowers Price Target to $82', 'The 10 Most Expensive Stocks In The S&P 500', 'Stocks That Hit 52-Week Highs On Friday', 'Agilent Technologies Receives FDA Approval for PD-L1 as a Companion Diagnostic', 'Agilent Technologies Reports Q3 Adj. EPS $0.59 vs $0.52 Est., Sales $1.11B vs $1.09B Est.', 'Stocks That Hit 52-Week Highs On Wednesday', 'Earnings Scheduled For August 14, 2019', \"Benzinga's Top Upgrades, Downgrades For July 16, 2019\", 'Agilent Reports Q2 Adj. EPS $0.58 vs $0.48 Est., Sales $1.1B vs $1.05B  Est.', 'Agilent Raises FY Outlook', 'Agilent to Acquire Assets of Ultra Scientific, No Financial Terms Disclosed', 'Agilent Acquires Powerful Next Gen Sequencing IP Portfolio, No Terms Disclosed', \"46 Stocks Moving In Thursday's Mid-Day Session\", 'Goldman Sachs Healthcare CEOs Unscripted Conference Taking Place Today; Presenters Include Agilent, Bluebird Bio, Boston Scientific, Alexion, Eli Lilly, and Alnylam', 'Agilent Sees Q1 Adj. EPS $0.80-$0.81 vs $0.84 Estimate, Sales $1.34B-$1.355B vs $1.38B Est.', 'Agilent Technologies Inc Says In January 2020, Net Revenue Was Negatively Impacted Due To The Public Health Crisis In China; Says In Jan 2020, Net Revenue Negatively Impacted Also Due To Extension Of Lunar New Year Resulting In Fewer Selling Days In Month', \"There's A New Trading Tool That Allows Traders To Trade Cannabis With Leverage\", 'Shares of several companies in the auto dealer space are trading higher amid positive market sentiment. Speculation some coronavirus hotspots leveling off has raised hopes of a return to economic activity, which could mean a rebound in consumer spending.', 'Agilent Technologies shares are trading lower after the company reported worse-than-expected Q2 EPS and sales results; the company also announced weak Q3 sales guidance.', \"Benzinga's Top Upgrades, Downgrades For October 18, 2019\", \"Pershing Square Sees 'Substantial Opportunity' For Improvement In Agilent's A.N Business Performance\", 'Agilent Signs Agreement to Acquire Assets from Young in Scientific Co. Ltd.; Financial Terms Not Disclosed', 'Bank of America Downgrades Agilent Technologies to Neutral', '60 Biggest Movers From Yesterday', \"Shares of several healthcare companies are trading lower, selling off from this week's strength. While the US stimulus package boosted economic optimism, demand concerns still exist amid the coronavirus outbreak.\", 'Stocks That Hit 52-Week Highs On Thursday', 'Agilent Technologies Signs Agreement To Acquire Lasergen For $105M', 'Stocks That Hit 52-Week Lows On Thursday', 'Agilent Technologies Q2 Adj. EPS $0.71 Beats $0.61 Estimate, Sales $1.24B Beat $1.21B Estimate', \"Agilent Highlights Letter To SEC Related To Material Misstatements In Twist Bioscience's S-1\", 'A Peek Into The Markets: US Stock Futures Up; All Eyes On Fed Decision', 'Agilent Reports Q4 Adj. EPS $0.67 vs $0.62 Est., Sales $1.19B vs $1.17B Est.', 'Earnings Scheduled For August 14, 2018', 'Earnings Scheduled For February 14, 2017', \"Benzinga's Top Upgrades, Downgrades For January 4, 2017\", '75 Biggest Movers From Yesterday', \"Pressure Biosciences CEO On Its Beaten Down Stock: 'We Can Now Begin To Focus On The Area That Is Most Important'\", 'Jefferies Health Care Conference Begins Today, Presenters Include: Agilent Technologies, Civitas Solutions, Aeri Pharmaceuticals, Alkermes, Alnylam Pharmaceuticals, Heron Therapeutics', 'Shares of several coronavirus-related companies including vaccine makers, protective apparel manufacturers and emergency medical suppliers are trading higher as the coronavirus continues to spread globally.', \"6 Stocks Moving In Monday's After-Hours Session\", 'Stocks That Hit 52-Week Highs On Friday', 'JANA 13F Shows Liquidated Stakes In Alibaba, Agilent, US Steel, SVMK, Electronic Arts, Dollar Tree', 'UBS Maintains Neutral on Agilent Technologies, Raises Price Target to $87', '8 Stocks You Should Be Watching Today', 'Deutsche Bank Optimistic On Fundamentals In Life Science Tools/Diagnostics Sector', 'Wells Fargo Initiates Coverage On Agilent Technologies with Overweight Rating, Announces $100 Price Target', 'Agilent Sees Q1 Adj. EPS $0.55-$0.57 vs $0.60 Est., Sales $1.145B-$1.165B vs $1.15B Est.', '8 Stocks To Watch For August 16, 2017', 'Earnings Scheduled For May 14, 2018', 'Stocks That Hit 52-Week Highs On Wednesday', '5 Stocks To Watch For May 22, 2017', '10 Stocks To Watch For August 15, 2019', 'Pershing Square 13F Shows Raised Stake In Agilent By 11.4% To 3.25M Shares', 'Agilent shares are trading lower. Not seeing any news to justify the price action.', 'Morgan Stanley Maintains Overweight on Agilent Technologies, Raises Price Target to $88.00', \"Benzinga's Top Upgrades, Downgrades For June 11, 2019\", 'Agilent Technologies Sharply Higher After Q2 Beat', 'Evercore ISI Group Initiates Coverage On Agilent Technologies with Outperform Rating, Announces $75.00 Price Target', 'Goldman Sachs Global Healthcare Conference Continues Today, Presenters Include: Agilent, Sage Therapeutics, and GW Pharmaceuticals', \"Benzinga's Top Upgrades, Downgrades For March 15, 2017\", 'Agilent Technologies Q3 Adj. EPS $0.76 Beats $0.72 Estimate, Sales $1.27B Beat $1.24B Estimate', '14 Stocks To Watch For November 21, 2017', 'Agilent Technologies, Inc. Q4 EPS $0.81 Beats $0.74 Estimate, Sales $1.29B Beat $1.25B Estimate', 'Agilent Sees FY20 Adj. EPS $3.38-$3.43 vs $3.44 Estimate, Sales $5.5B-$5.55B vs $5.55B Est.', \"The Technician's Playbook: 11 Sector Pair Trades\", \"A Peek Into The Markets: US Stock Futures Down Ahead Of Macy's Earnings, Economic Data\", 'Shares of diagnostics and research companies are trading higher in sympathy with Syneos Health, which reported strong Q2 results and raised FY19 guidance.', \"Top 10 Movers Via Benzinga Pro's Screener Tool For Morning of Friday., August 16, 2019\", 'Agilent Technologies Shares Down 6.5% After Hours Following Mixed Q2 Results; Co. Reaffirmed Downbeat Q3 And FY18 Guidance Estimates', 'Jana Partners 13F shows Increased Stake In Agilent Technologies From ~1.02M Shares To ~1.22M Shares', 'Agilent Technologies Q1 EPS $0.81, Inline, Sales $1.36B Up From $1.284B YoY', \"Int'l. Air Transport Authority Chief Economist Sees Consolidation In Airline Sector As Some Airlines Fail, Calls Signs In Chinese Domestic Market 'Encouraging,' Load Factors Are About 60%\", 'Stocks That Hit 52-Week Highs On Thursday', 'Earnings Scheduled For May 14, 2019', \"Ariel Chairman John Rogers Thinks Current Market Is 'Once In A Lifetime Opportunity To Buy Stocks'\", \"Shares of several healthcare companies are trading lower with the broader market after the US expanded its trade blacklist to include China's top AI firms. The US also will increase its tariffs on $250 billion worth of goods from 25% to 30% on Oct 15.\", 'Agilent Spikes to High of $60.40 on Volume', \"30 Stocks Moving In Wednesday's Pre-Market Session\", 'Waters Has Limited Upside Potential To Growth Expectations; Janney Steps to The Sidelines', \"Benzinga Pro's Top 10 Most-Searched Tickers For Morning of Wed., May 15, 2019\", \"UPDATE: Bill Ackman's Pershing Square Files Amended 13F Showing New ~2.916M Share Stake In Agilent\", 'Barclays Downgrades Agilent Technologies to Equal-Weight, Lowers Price Target to $78', 'Bank Of America Out Positive On Agilent, Raises Price Target From $80 To $83 As Frim Says Core Business Continues To Do Well, Led By C&E Strength And Pharma; Remains A Focus Stock For Bank of America', '71 Biggest Movers From Friday', 'Agilent Technologies Reports Q4 EPS $0.59 vs. Est. $0.52, Rev. $1.11B vs. Est. $1.07B', 'Morgan Stanley Upgrades Agilent Technologies To Overweight', 'Morgan Stanley Maintains Overweight on Agilent Technologies, Raises Price Target to $84', 'Agilent to Acquire ACEA Biosciences for $250M in Cash', 'CFRA Maintains Hold on Agilent Technologies, Lowers Price Target to $85', \"PreMarket Prep Recap: Yo-Yo Market And After-Hours Overshoot On Ackman's New Stake\", 'Shares of several software companies are trading lower as the coronavirus cases surge outside of China. NOTE: The virus has raised fear of a global economic slowdown.', '45 Biggest Movers From Yesterday', 'A Life Science Tools And Diagnostics Pair Trade: Goldman Recommends Buying Agilent, Moving to Sidelines On Thermo Fisher', \"Agilent Shares Unaffected As Hearing FDA Approved Co.'s PD-L1 IHC 22C3 PharmDx Assay For Expanded Use\", \"30 Stocks Moving in Friday's Pre-Market Session\", '5 Things That Stood Out In Another Beat And Raise Quarter From Agilent', 'Agilent Raises Qtr. Dividend From $0.164 To $0.18/Share', 'Agilent Technologies Sees Q3 EPS $0.61-0.63 vs $0.65 Est; Sees Sales $1.19B-1.21B vs $1.21B Est', 'Agilent Sees Q1 Adj. EPS $0.71-$0.73 vs $0.72 Estimate, Sales $1.265B-$1.28B vs $1.27B Est.', 'Morgan Stanley Maintains Overweight on Agilent Technologies, Raises Price Target to $86', \"3 Things Deutsche Bank Likes About Agilent's Q3, And One Thing To Be Cautious Of\", 'Earnings Scheduled For February 18, 2020', \"41 Healthcare Stocks Moving In Tuesday's Pre-Market Session\", 'UPDATE: Agilent Raises FY19 Adj. EPS Guidance From $3-$3.05 To $3.03-$3.07 vs $3.05 Estimate, Sales From $5.13B-$5.17B To $5.15B-$5.19B vs $5.17B Est.', 'JP Morgan Maintains Overweight on Agilent Technologies Inc, Raises price target to $80.00', 'Cowen Annual Healthcare Conference Concludes Today; Presenters Include Agilent Tech, Incyte, GW Pharma, Teva Pharma, NantKwest, Seattle Genetics, And Celgene', 'Agilent Reports Purchase Of Cobalt Light Systems For £40M In Cash', 'Hearing Pershing Square Reports 2.9M Share Stake In Agilent', 'Stocks That Hit 52-Week Highs On Thursday', 'Shares of several healthcare companies are trading higher following Senate passage of a $2 trillion economic stimulus package, which has lifted stocks across sectors.', '7 Stocks To Watch For May 14, 2018', \"Goldman's 7 Favorite Biotech Ideas For 2016\", 'Deutsche Bank Maintains Buy on Agilent Technologies, Raises Price Target to $85', \"7 Stock's Moving In Monday's After-Hours Session\", 'UBS Maintains Neutral on Agilent Technologies, Raises Price Target to $87', 'Shares of several healthcare companies are trading lower as markets dip following recent strength. Markets have sold off as investors weigh recent earnings and amid concerns of renewed US-China trade frictions.', 'Agilent Reports Deal with Agendia for Molecular Cancer Diagnostics', 'Agilent Reports Purchase Of Genohm, No Terms Disclosed', \"36 Stocks Moving In Tuesday's Mid-Day Session\", 'Agilent Technologies Q2 Adj. EPS $0.71 Misses $0.72 Estimate, Sales $1.24B Miss $1.27B Estimate', 'Agilent Raises FY17 Outlook', 'Agilent Technologies Q1 EPS $0.76 Beats $0.73 Estimate, Sales $1.284B Beat $1.27B Estimate', 'Pershing Square 13F Shows Fund Raises Stake In Agilent Technologies To 12,626,593 Shares', '10 Stocks To Watch For August 15, 2018', \"Benzinga's Top Upgrades, Downgrades For November 15, 2019\", 'Agilent Technologies shares are trading lower after the company reported worse-than-expected Q2 EPS and sales results; the company also issued Q3 sales guidance below analyst estimates.', 'Agilent Reports Dako PD-L1 IHC 28-8 PharmDx Approved For 2 New Indications: Urothelial Carcinoma, Squamous Cell Carcinoma Of Head And Neck', 'Agilent Files Civil Lawsuit against Shanghai Echrom Electronic Technology Co.', '8 Stocks To Watch For May 23, 2017', 'Agilent Will Acquire BioTek Instruments In $1.16B Deal', \"Shares of several technology companies are trading higher as equities continue to rise following last week's rebound amid US stimulus measures.\", 'Leerink Swann Assumes Agilent Technologies, Inc. Common Stock at Outperform', \"Deutsche Bank Says Agilent Can Be The Next 'Compounder' In The Life Science Tools & Diagnostics Space Based On Product Cycles, Margin Expansion Opportunities, and Balanced End Market Exposures\", 'Deutsche Bank Maintains Buy on Agilent Technologies, Inc. Common Stock, Lowers Price Target to $85', \"Cowen Says Views Potential Twist-Agilent Settlement As 'a likely clearing event for additional investment in TWST'\", '10 Stocks To Watch For November 20, 2018', 'UBS Maintains Neutral on Agilent Technologies, Lowers Price Target to $84', 'Agilent Sees Q3 Adj. EPS $0.49-$0.51 vs $0.53 Est., Sales $1.06B-$1.08B vs $1.08B Est.', 'Agilent Technologies Q3 Adj. EPS $0.67 Beats $0.63 Estimate, Sales $1.203B Beat $1.2B Estimate', 'Stifel Nicolaus Initiates Coverage On Agilent Technologies with Hold Rating, Announces $85 Price Target', 'Agilent Reports Q1 Adj. EPS $0.53 vs $0.49 Est., Sales $1.07B vs $1.05B Est.', 'B of A Securities Maintains Neutral on Agilent Technologies, Raises Price Target to $88', 'Shares of several healthcare companies are trading lower in sympathy with the overall market on continued fears of a recession amid a weak ADP jobs report. There is also uncertainty in the market over the upcoming U.S.-China meeting next week.', \"12 Stocks Moving In Tuesday's After-Hours Session\", 'Agilent Reports Q1 Adj. EPS $0.66 vs $0.58 Est., Sales $1.21B vs $1.16B Est.', \"Benzinga's Top Upgrades, Downgrades For January 3, 2020\", '13F From JANA Shows Cut Stake In Agilent', 'Agilent, University of Duisburg-Essen Announce Collaboration Agreement', 'Shares of several healthcare companies are trading lower amid market weakness as growing coronavirus concerns in the US weigh on equities.', 'Shares of several healthcare companies are trading higher in sympathy with the overall market after the Chinese Minister of Commerce said the leaders of the U.S. and China are set to meet in Washington D.C in early October. Investors hope the meeting could bring the two countries closer to a trade deal.', 'Twist Bioscience Reports Settlement Deal With Agilent; Co. Will Pay Agilent $22.5M', \"5 Stocks Moving In Tuesday's After-Hours Session\", 'Shares of several healthcare companies are trading higher as the US market rebounds from recent weakness, driven by renewed cautious optimism surrounding US-China trade talks.', 'Q4 13F Roundup: How Buffett, Einhorn, Ackman And Others Adjusted Their Portfolios', 'Needham Initiates Coverage On Agilent Technologies with Buy Rating, Announces $77 Price Target', \"8 Stocks Moving In Thursday's After-Hours Session\", 'Agilent Technologies shares are trading higher after the company reported better-than-expected Q3 EPS and sales results. The company also issued FY19 EPS above analyst estimates.', 'A Peek Into The Markets: US Stock Futures Tumble Ahead Of Economic Data', 'Earnings Scheduled For November 20, 2017', \"33 Stocks Moving In Tuesday's Pre-Market Session\", '8 Stocks To Watch For November 19, 2018', \"20 Stocks Moving In Wednesday's Pre-Market Session\", 'Shares of several healthcare companies are trading lower in sympathy with the overall market on continued downward momentum caused by the coronavirus. The virus has had a negative impact on the global economy.', \"Shares of many Healthcare companies are trading higher as markets rebound from the recent volatility caused by uncertainty regarding US-China trade talks. Also, lawmakers were not able to pass a bill that would end 'surprise medical bills'.\", '10 Biggest Price Target Changes For Tuesday', 'Barclays Maintains Equal-Weight on Agilent Technologies, Lowers Price Target to $76', 'Agilent Technologies Reaffirms FY2018 EPS ~$2.65 vs $2.70 Est., Core Sales Growth 5.5%', \"25 Stocks Moving In Tuesday's Pre-Market Session\", 'Agilent Companion Diagnostic Gains Expanded FDA Approval In Cervical Cancer', 'The Market In 5 Minutes: DryShips, Trump And Target', 'Aligent shares are trading higher after the company reported better-than-expected Q4 EPS and sales results.', 'A Peek Into The Markets: U.S. Stock Futures Rise; All Eyes On Fed Minutes', '8 Biggest Price Target Changes For Tuesday', 'Agilent Technologies Sees FY17 Rev. $4.35B-$4.37B vs. Est. $4.35B, EPS $2.10-$2.16 vs. Est. $2.19; Q4 Rev. $1.04-$1.04B vs. Est. $1.08B, EPS $0.48-$0.50 vs. Est. $0.53', '8 Stocks To Watch For May 15, 2019', 'Agilent Reports Has Become Top-Level Sponsor Of My Green Lab', 'Stocks That Hit 52-Week Highs On Monday', 'Earnings Scheduled For May 21, 2020', 'A Peek Into The Markets: U.S. Stock Futures Gain Ahead Of Economic Reports', 'Stifel Maintains Hold on Agilent Technologies, Lowers Price Target to $73', 'Agilent Sees Q2 Adj. EPS $0.70-$0.72 vs $0.72 Estimate, Sales $1.255B-$1.27B vs $1.27B Est.; Raises FY19 Guidance', \"44 Stocks Moving In Wednesday's Mid-Day Session\", 'Barclays Maintains Overweight on Agilent Technologies, Inc. Common Stock, Lowers Price Target to $86', 'Deutsche Bank Maintains Buy on Agilent Technologies, Raises Price Target to $80', 'Agilent Raises Qtr. Dividend From $0.13/Share To $0.149/Share', 'Agilent Sees Q2 Adj. EPS $0.61-$0.63 vs $0.64 Est., Sales $1.2B-$1.22B vs $1.17B Est.; FY18 Adj. EPS $2.62-$2.68 vs $2.59 Est., Sales $4.885B-$4.905B vs $5.04B Est.', 'Cowen & Co. Maintains Outperform on Agilent Technologies, Raises Price Target to $90', 'Shares of several healthcare companies are trading higher amid positive investor sentiment as some US states begin to reopen their economies and as oil prices gain for the session.', 'Hearing Thermo Fisher In Talks To Buy Agilent', 'UBS Maintains Neutral on Agilent Technologies, Raises Price Target to $90', 'Agilent Reports FDA Approval Of GenetiSure Dx Postnatal Assay', 'A Peek Into The Markets: US Stock Futures Edge Higher Ahead Of Fed Speakers', 'Agilent Technologies Option Alert: Mar 15 $75 Calls at the Ask: 1000 @ $2.3 vs 33 OI; Earnings 2/20 After Close Ref=$73.74', \"10 Stocks Moving In Monday's After-Hours Session\", 'Cowen & Co. Upgrades Agilent Technologies to Outperform', 'Agilent Technologies Q4 Adj. EPS $0.89 Beats $0.85 Estimate, Sales $1.37B Beat $1.33B Estimate', 'Earnings Scheduled For February 20, 2019', \"Agilent Technologies Receives FDA Approval For Use Of Dako PD-L1 For Treatment With Merck's KEYTRUDA In Gastric or Gastroesophageal Junction Cancer\", '10 Stocks To Watch For February 20, 2019', 'Stocks That Hit 52-Week Highs On Tuesday', 'Agilent Technologies shares are trading higher after the company reported better-than-expected Q2 EPS and sales results.', 'Morgan Stanley Maintains Overweight on Agilent Technologies, Lowers Price Target to $91.00', 'SVB Leerink Maintains Outperform on Agilent Technologies, Raises Price Target to $95', 'Citigroup Initiates Coverage On Agilent Technologies with Neutral Rating, Announces $85 Price Target', \"37 Stocks Moving In Tuesday's Mid-Day Session\", 'Shares of several healthcare companies are trading higher after President Trump made positive remarks on the U.S.-China trade talks as traders grew more optimistic over the possibility of a limited trade deal. Trump is scheduled to meet with Chinese Vice Premier Liu He at the White House today.', 'Agilent Announces CFO Didier Hirsch To Retire October 31, Robert McMahon To Become CFO', 'Aquinox Pharmaceuticals Announces FDA Panel Voted 15 to 0 That Patients With Interstitial Cystitis and Patients With Bladder Pain Syndrome Should Be Combined in Clinical Trials', 'Earnings Scheduled For February 14, 2018', 'Phillips 66 Says it Has Agreed to Repurchase 35M Shares of Phillips 66 Common Stock from Wholly-owned Subsidiary of Berkshire Hathaway', '6 Stocks To Watch For May 14, 2019', 'Agilent Technologies shares are trading lower after the company reported Q1 earnings.', '18 Biggest Mid-Day Gainers For Wednesday', 'Piper Jaffray Initiates Coverage On Agilent Technologies with Overweight Rating, Announces $83 Price Target', 'Stocks That Hit 52-Week Highs On Friday', 'Barclays Maintains Overweight on Agilent Technologies, Raises Price Target to $83', \"Agilent Technologies Files Second Civil Action Against Changzhou Pannatek to 'Protect Intellectual Property'\", '7 Biggest Price Target Changes For Friday', 'Traders Circulating Chatter That Cowen Upgraded Agilent', 'Agilent Names Koh Boon Hwee Chair', 'How Bill Ackman Successfully Navigated Coronavirus Market Volatility', 'Stocks That Hit 52-Week Highs On Friday', '15 Biggest Mid-Day Gainers For Tuesday', 'Wells Fargo Upgrades Agilent Technologies to Outperform', 'Agilent Collaborates On Study Of Performance-Enhancing Spinach Extract', 'Barclays Upgrades Agilent Technologies to Overweight, Raises Target to $51.00']\n"
     ]
    }
   ],
   "source": [
    "import numpy as np\n",
    "\n",
    "headlines_array = np.array(df)\n",
    "np.random.shuffle(headlines_array)\n",
    "headlines_list = list(headlines_array[:,1])\n",
    "\n",
    "print(headlines_list)"
   ]
  },
  {
   "cell_type": "code",
   "execution_count": 27,
   "id": "1af5f436",
   "metadata": {},
   "outputs": [
    {
     "data": {
      "text/plain": [
       "(300, 4)"
      ]
     },
     "execution_count": 27,
     "metadata": {},
     "output_type": "execute_result"
    }
   ],
   "source": [
    "df.shape "
   ]
  },
  {
   "cell_type": "code",
   "execution_count": 28,
   "id": "28858873",
   "metadata": {},
   "outputs": [
    {
     "data": {
      "text/plain": [
       "Unnamed: 0    0.0\n",
       "title         0.0\n",
       "date          0.0\n",
       "stock         0.0\n",
       "dtype: float64"
      ]
     },
     "execution_count": 28,
     "metadata": {},
     "output_type": "execute_result"
    }
   ],
   "source": [
    "# Percentage of missing column values\n",
    "null_check_percent = df.isnull().sum() * 100 / len(df)\n",
    "null_check_percent"
   ]
  },
  {
   "cell_type": "code",
   "execution_count": 29,
   "id": "c5fa0c9b",
   "metadata": {},
   "outputs": [
    {
     "data": {
      "text/plain": [
       "Unnamed: 0    0.0\n",
       "title         0.0\n",
       "date          0.0\n",
       "stock         0.0\n",
       "dtype: float64"
      ]
     },
     "execution_count": 29,
     "metadata": {},
     "output_type": "execute_result"
    }
   ],
   "source": [
    "# remove titles with missing \"stock\"\n",
    "df = df.dropna(subset = ['stock'])\n",
    "df = df.reset_index(drop = True)\n",
    "null_check_percent = df.isnull().sum() * 100 / len(df)\n",
    "null_check_percent"
   ]
  },
  {
   "cell_type": "code",
   "execution_count": 30,
   "id": "2f8b13a6",
   "metadata": {},
   "outputs": [
    {
     "data": {
      "text/plain": [
       "(300, 4)"
      ]
     },
     "execution_count": 30,
     "metadata": {},
     "output_type": "execute_result"
    }
   ],
   "source": [
    "df.shape"
   ]
  },
  {
   "cell_type": "code",
   "execution_count": 31,
   "id": "b3b8ce59",
   "metadata": {},
   "outputs": [],
   "source": [
    "df['title'] = df.title.astype(str)  # imp"
   ]
  },
  {
   "cell_type": "code",
   "execution_count": 32,
   "id": "47e8fab5",
   "metadata": {},
   "outputs": [
    {
     "data": {
      "text/html": [
       "<div>\n",
       "<style scoped>\n",
       "    .dataframe tbody tr th:only-of-type {\n",
       "        vertical-align: middle;\n",
       "    }\n",
       "\n",
       "    .dataframe tbody tr th {\n",
       "        vertical-align: top;\n",
       "    }\n",
       "\n",
       "    .dataframe thead th {\n",
       "        text-align: right;\n",
       "    }\n",
       "</style>\n",
       "<table border=\"1\" class=\"dataframe\">\n",
       "  <thead>\n",
       "    <tr style=\"text-align: right;\">\n",
       "      <th></th>\n",
       "      <th>Unnamed: 0</th>\n",
       "      <th>title</th>\n",
       "      <th>date</th>\n",
       "      <th>stock</th>\n",
       "    </tr>\n",
       "  </thead>\n",
       "  <tbody>\n",
       "    <tr>\n",
       "      <th>0</th>\n",
       "      <td>0</td>\n",
       "      <td>Stocks That Hit 52-Week Highs On Friday</td>\n",
       "      <td>2020-06-05 10:30:00-04:00</td>\n",
       "      <td>A</td>\n",
       "    </tr>\n",
       "    <tr>\n",
       "      <th>1</th>\n",
       "      <td>1</td>\n",
       "      <td>Stocks That Hit 52-Week Highs On Wednesday</td>\n",
       "      <td>2020-06-03 10:45:00-04:00</td>\n",
       "      <td>A</td>\n",
       "    </tr>\n",
       "    <tr>\n",
       "      <th>2</th>\n",
       "      <td>2</td>\n",
       "      <td>71 Biggest Movers From Friday</td>\n",
       "      <td>2020-05-26 04:30:00-04:00</td>\n",
       "      <td>A</td>\n",
       "    </tr>\n",
       "  </tbody>\n",
       "</table>\n",
       "</div>"
      ],
      "text/plain": [
       "   Unnamed: 0                                       title  \\\n",
       "0           0     Stocks That Hit 52-Week Highs On Friday   \n",
       "1           1  Stocks That Hit 52-Week Highs On Wednesday   \n",
       "2           2               71 Biggest Movers From Friday   \n",
       "\n",
       "                        date stock  \n",
       "0  2020-06-05 10:30:00-04:00     A  \n",
       "1  2020-06-03 10:45:00-04:00     A  \n",
       "2  2020-05-26 04:30:00-04:00     A  "
      ]
     },
     "execution_count": 32,
     "metadata": {},
     "output_type": "execute_result"
    }
   ],
   "source": [
    "df.head(3)"
   ]
  },
  {
   "cell_type": "code",
   "execution_count": 33,
   "id": "daf79839",
   "metadata": {},
   "outputs": [
    {
     "name": "stdout",
     "output_type": "stream",
     "text": [
      "[\"Shares of several healthcare companies are trading lower, selling off from this week's strength. While the US stimulus package boosted economic optimism, demand concerns still exist amid the coronavirus outbreak.\", 'Wells Fargo Maintains Overweight on Agilent Technologies, Lowers Price Target to $82', 'Agilent Technologies to Acquire Advanced Analytical Technologies for $250M in Cash', \"30 Stocks Moving In Wednesday's Pre-Market Session\", 'A Peek Into The Markets: U.S. Stock Futures Rise; All Eyes On Fed Minutes', \"Int'l. Air Transport Authority Chief Economist Sees Consolidation In Airline Sector As Some Airlines Fail, Calls Signs In Chinese Domestic Market 'Encouraging,' Load Factors Are About 60%\", 'Deutsche Bank Optimistic On Fundamentals In Life Science Tools/Diagnostics Sector', 'Wells Fargo Upgrades Agilent Technologies to Outperform', 'Agilent, Nanyang Technological University Singapore to Develop Novel Approaches for Water Analysis', 'Aquinox Pharmaceuticals Announces FDA Panel Voted 15 to 0 That Patients With Interstitial Cystitis and Patients With Bladder Pain Syndrome Should Be Combined in Clinical Trials', 'Morgan Stanley Maintains Overweight on Agilent Technologies, Raises Price Target to $88.00', 'Earnings Scheduled For February 20, 2019', 'Agilent Withdraws Q2 And FY20 Guidance', 'Waters Has Limited Upside Potential To Growth Expectations; Janney Steps to The Sidelines', 'Agilent Technologies Receives FDA Approval for PD-L1 as a Companion Diagnostic', 'Stocks That Hit 52-Week Highs On Wednesday', \"Agilent Shares Unaffected As Hearing FDA Approved Co.'s PD-L1 IHC 22C3 PharmDx Assay For Expanded Use\", 'Stocks That Hit 52-Week Highs On Friday', 'Earnings Scheduled For May 14, 2018', \"Benzinga's Top Upgrades, Downgrades For February 24, 2020\", 'Morgan Stanley Maintains Overweight on Agilent Technologies, Raises Price Target to $86', 'The 10 Most Expensive Stocks In The S&P 500', 'Agilent Reports Scientific Partnership with the University of Southern California', 'Bank Of America Out Positive On Agilent, Raises Price Target From $80 To $83 As Frim Says Core Business Continues To Do Well, Led By C&E Strength And Pharma; Remains A Focus Stock For Bank of America', 'Citigroup Initiates Coverage On Agilent Technologies with Neutral Rating, Announces $85 Price Target', 'Agilent Technologies Sees Q3 EPS $0.61-0.63 vs $0.65 Est; Sees Sales $1.19B-1.21B vs $1.21B Est', '7 Stocks To Watch For November 25, 2019', 'Agilent Technologies To Acquire ACEA Biosciences; Financial Terms Not Disclosed', '14 Stocks To Watch For November 21, 2017', \"20 Stocks Moving In Wednesday's Pre-Market Session\", 'Agilent Raises FY17 Outlook', 'Agilent Signs Agreement to Acquire Assets from Young in Scientific Co. Ltd.; Financial Terms Not Disclosed', \"Deutsche Bank Says Agilent Can Be The Next 'Compounder' In The Life Science Tools & Diagnostics Space Based On Product Cycles, Margin Expansion Opportunities, and Balanced End Market Exposures\", 'Earnings Scheduled For February 14, 2017', 'Shares of several healthcare companies are trading lower as markets dip following recent strength. Markets have sold off as investors weigh recent earnings and amid concerns of renewed US-China trade frictions.', 'Agilent Will Acquire BioTek Instruments In $1.16B Deal', 'Agilent Technologies Q3 Earnings Preview', '7 Biggest Price Target Changes For Friday', 'Stocks That Hit 52-Week Highs On Wednesday', 'SVB Leerink Maintains Outperform on Agilent Technologies, Raises Price Target to $95', \"A Peek Into The Markets: US Stock Futures Down Ahead Of Macy's Earnings, Economic Data\", 'Earnings Scheduled For November 19, 2018', 'Agilent Sees FY18 Adj. EPS $2.50-$2.56 vs $2.59 Est., Sales $4.72B-$4.74B vs $4.73B Est.', 'Agilent Technologies Reaffirms FY2018 EPS ~$2.65 vs $2.70 Est., Core Sales Growth 5.5%', 'Agilent Reports Q2 Adj. EPS $0.58 vs $0.48 Est., Sales $1.1B vs $1.05B  Est.', 'Agilent Reaffirms FY20 Guidance: Adj. EPS $3.38-$3.43 vs $3.42 Estimate, Sales $5.5B-$5.55B vs $5.54B Est.', 'Agilent Raises Qtr. Dividend From $0.164 To $0.18/Share', 'Agilent Technologies Q2 Adj. EPS $0.71 Misses $0.72 Estimate, Sales $1.24B Miss $1.27B Estimate', \"Benzinga Pro's Top 10 Most-Searched Tickers For Morning of Wed., May 15, 2019\", '10 Stocks To Watch For August 15, 2017', 'Agilent Technologies Q4 Adj. EPS $0.89 Beats $0.85 Estimate, Sales $1.37B Beat $1.33B Estimate', '5 Things That Stood Out In Another Beat And Raise Quarter From Agilent', 'Agilent Reports Purchase Of Genohm, No Terms Disclosed', 'Q1 13F Roundup: How Buffett, Einhorn, Ackman And Others Adjusted Their Portfolios', 'Earnings Scheduled For May 22, 2017', '8 Stocks To Watch For May 23, 2017', 'Agilent Announces CFO Didier Hirsch To Retire October 31, Robert McMahon To Become CFO', 'Agilent Acquires Powerful Next Gen Sequencing IP Portfolio, No Terms Disclosed', 'Barclays Maintains Equal-Weight on Agilent Technologies, Lowers Price Target to $76', \"PreMarket Prep Recap: Yo-Yo Market And After-Hours Overshoot On Ackman's New Stake\", \"Benzinga's Top Upgrades, Downgrades For October 18, 2019\", 'Jana Partners 13F shows Increased Stake In Agilent Technologies From ~1.02M Shares To ~1.22M Shares', 'Barclays Maintains Equal-Weight on Agilent Technologies, Lowers Price Target to $76', 'Agilent Technologies shares are trading higher after the company reported better-than-expected Q2 EPS and sales results.', 'A Peek Into The Markets: US Stock Futures Tumble Ahead Of Economic Data', '8 Stocks To Watch For May 15, 2019', 'Agilent Technologies Sees Q4 Adj. EPS $0.84-$0.86 vs $0.87 Est., Sales $1.31B-$1.33B vs $1.34B Est., Sees FY19 Adj. EPS $3.07-$3.08 vs $3.05 Est., Sales $5.105B-$5.125B vs $5.11B Est.', 'Agilent Companion Diagnostic Gains Expanded FDA Approval in Urothelial Carcinoma, PD-L1 IHC 22C3 pharmDx Now Approved to Identify Certain Urothelial Carcinoma Patients for Treatment With KEYTRUDA', '8 Stocks To Watch For November 19, 2018', 'Morgan Stanley Maintains Overweight on Agilent Technologies, Raises Price Target to $89', 'Cowen & Co. Maintains Outperform on Agilent Technologies, Raises Price Target to $90', 'JP Morgan Healthcare Conference Continues Today, Presenters Include: Bluebird Bio, Agilent, Insulet, Cigna, DexCom, Eli Lilly, LifePoint, Acadia, Alkermes, Juno Therapeutics', 'UBS Maintains Neutral on Agilent Technologies, Raises Price Target to $90', '7 Stocks To Watch For May 14, 2018', 'UBS Maintains Neutral on Agilent Technologies, Raises Price Target to $87', '15 Biggest Mid-Day Gainers For Tuesday', 'Needham Initiates Coverage On Agilent Technologies with Buy Rating, Announces $77 Price Target', 'Piper Jaffray Initiates Coverage On Agilent Technologies with Overweight Rating, Announces $83 Price Target', 'Agilent Reports Purchase Of Luxcel Biosciences, No Terms Disclosed', 'Agilent Sees FY19 Adj. EPS $3-$3.05 vs $2.96 Estimate, Sales $5.13B-$5.17B vs $5.18B Est.', 'Shares of several healthcare companies are trading higher as markets gain amid optimism that coronavirus cases in several US hotspots may be peaking. A sooner peak could mean a sooner return to economic activity.', 'Barclays Upgrades Agilent Technologies to Overweight, Raises Target to $51.00', 'Agilent Technologies Q3 Adj. EPS $0.67 Beats $0.63 Estimate, Sales $1.203B Beat $1.2B Estimate', 'Aligent shares are trading higher after the company reported better-than-expected Q4 EPS and sales results.', \"37 Stocks Moving In Tuesday's Mid-Day Session\", '10 Stocks To Watch For August 15, 2019', 'Alnylam Pharma 8-K Shows Co. Entered Manufacturing Services Deal With Agilent For Providing Of Commercial Supply Of Patisiran', 'Agilent Reports FDA Approval Of GenetiSure Dx Postnatal Assay', 'Agilent Collaborates On Study Of Performance-Enhancing Spinach Extract', 'Deutsche Bank Maintains Buy on Agilent Technologies, Raises Price Target to $80', 'How Bill Ackman Successfully Navigated Coronavirus Market Volatility', 'A Peek Into The Markets: US Stock Futures Edge Higher Ahead Of Fed Speakers', '9 Stocks To Watch For February 18, 2020', \"Shares of several technology companies are trading higher as equities continue to rise following last week's rebound amid US stimulus measures.\", 'Pershing Square 13F Shows Fund Raises Stake In Agilent Technologies To 12,626,593 Shares', 'Goldman Sachs Global Healthcare Conference Continues Today, Presenters Include: Agilent, Sage Therapeutics, and GW Pharmaceuticals', '75 Biggest Movers From Yesterday', 'Agilent Raises FY Outlook', 'Stifel Maintains Hold on Agilent Technologies, Lowers Price Target to $73', '5 Stocks To Watch For May 22, 2017', 'Shares of several healthcare companies are trading higher amid positive investor sentiment as some US states begin to reopen their economies and as oil prices gain for the session.', 'Agilent Technologies Option Alert: Mar 15 $75 Calls at the Ask: 1000 @ $2.3 vs 33 OI; Earnings 2/20 After Close Ref=$73.74', \"8 Stocks Moving In Thursday's After-Hours Session\", '8 Biggest Price Target Changes For Tuesday', 'B of A Securities Maintains Neutral on Agilent Technologies, Raises Price Target to $88', 'The Market In 5 Minutes: DryShips, Trump And Target', 'Earnings Scheduled For February 14, 2018', 'Shares of several healthcare companies are trading higher as the US market rebounds from recent weakness, driven by renewed cautious optimism surrounding US-China trade talks.', 'Leerink Swann Assumes Agilent Technologies, Inc. Common Stock at Outperform', \"Benzinga's Top Upgrades, Downgrades For March 15, 2017\", 'Agilent Technologies Q1 EPS $0.81, Inline, Sales $1.36B Up From $1.284B YoY', 'Agilent Technologies Q1 EPS $0.76 Beats $0.73 Estimate, Sales $1.284B Beat $1.27B Estimate', \"UPDATE: Bill Ackman's Pershing Square Files Amended 13F Showing New ~2.916M Share Stake In Agilent\", \"Agilent Highlights Letter To SEC Related To Material Misstatements In Twist Bioscience's S-1\", 'Agilent Technologies shares are trading lower after the company reported worse-than-expected Q2 EPS and sales results; the company also issued Q3 sales guidance below analyst estimates.', 'Agilent Technologies Q3 Adj. EPS $0.76 Beats $0.72 Estimate, Sales $1.27B Beat $1.24B Estimate', 'Shares of several healthcare companies are trading lower in sympathy with the overall market. The S&P 500 is trading lower 1%', 'Q4 13F Roundup: How Buffett, Einhorn, Ackman And Others Adjusted Their Portfolios', '5 Biggest Price Target Changes For Wednesday', 'UPDATE: Agilent Raises FY17 Adj. EPS Outlook to $2.15-$2.21 vs $2.16 Est., Sales to $4.36B-$4.38B vs $4.35B Est.', \"The Technician's Playbook: 11 Sector Pair Trades\", '60 Biggest Movers From Yesterday', 'Shares of several healthcare companies are trading higher after President Trump made positive remarks on the U.S.-China trade talks as traders grew more optimistic over the possibility of a limited trade deal. Trump is scheduled to meet with Chinese Vice Premier Liu He at the White House today.', 'Agilent Technologies Shares Down 6.5% After Hours Following Mixed Q2 Results; Co. Reaffirmed Downbeat Q3 And FY18 Guidance Estimates', 'Evercore ISI Group Initiates Coverage On Agilent Technologies with Outperform Rating, Announces $75.00 Price Target', 'Earnings Scheduled For February 18, 2020', 'Agilent Technologies Reports Q3 Adj. EPS $0.59 vs $0.52 Est., Sales $1.11B vs $1.09B Est.', 'Citigroup Maintains Neutral on Agilent Technologies, Lowers Price Target to $75', 'Keep an Eye on These 8 Stocks for November 16, 2016', '10 Stocks To Watch For August 15, 2018', 'Agilent To Purchase BioTek Instruments For $1.165B', 'Agilent Technologies Sharply Higher After Q2 Beat', 'Agilent Technologies shares are trading higher after the company reported better-than-expected Q2 EPS and sales results.', 'Cowen & Co. Upgrades Agilent Technologies to Outperform', \"30 Stocks Moving in Friday's Pre-Market Session\", 'Agilent Reports Q1 Adj. EPS $0.66 vs $0.58 Est., Sales $1.21B vs $1.16B Est.', 'Barclays Maintains Overweight on Agilent Technologies, Inc. Common Stock, Lowers Price Target to $86', 'Earnings Scheduled For November 15, 2016', 'Agilent Sees FY20 Adj. EPS $3.38-$3.43 vs $3.44 Estimate, Sales $5.5B-$5.55B vs $5.55B Est.', 'Agilent Sees Q2 Adj. EPS $0.61-$0.63 vs $0.64 Est., Sales $1.2B-$1.22B vs $1.17B Est.; FY18 Adj. EPS $2.62-$2.68 vs $2.59 Est., Sales $4.885B-$4.905B vs $5.04B Est.', 'Agilent Technologies Q2 EPS $0.65 Beats $0.64 Estimate, Sales $1.206B Miss $1.21B Estimate', \"33 Stocks Moving In Tuesday's Pre-Market Session\", \"Shares of several basic materials companies are trading higher, rebounding following Thursday's crash. The sector has been volatile amid the coronavirus outbreak, which has disrupted economic activity. NOTE: While markets rebound, virus fears persist.\", 'Stocks That Hit 52-Week Highs On Tuesday', 'Agilent Companion Diagnostic Receives Expanded FDA Approval For PD-L1 IHC 22C3 PharmDx', \"5 Stocks Moving In Tuesday's After-Hours Session\", 'Deutsche Bank Maintains Buy on Agilent Technologies, Raises Price Target to $85', 'Shares of Agilent Technologies are trading up 6% after the company beat Q4 Earnings estimates and issued upbeat FY19 guidance.', 'Shares of several coronavirus-related companies including vaccine makers, protective apparel manufacturers and emergency medical suppliers are trading higher as the coronavirus continues to spread globally.', 'A Peek Into The Markets: US Stock Futures Up; All Eyes On Fed Decision', 'Shares of several healthcare companies are trading lower in sympathy with the overall market on continued fears of a recession amid a weak ADP jobs report. There is also uncertainty in the market over the upcoming U.S.-China meeting next week.', 'Earnings Scheduled For August 14, 2019', 'Agilent Reports FDA Approval For PD-L1 Companion Diagnostic On Dako Omni', \"44 Stocks Moving In Wednesday's Mid-Day Session\", \"26 Stocks Moving In Tuesday's Pre-Market Session\", \"46 Stocks Moving In Friday's Mid-Day Session\", 'JP Morgan Maintains Overweight on Agilent Technologies Inc, Raises price target to $80.00', '8 Stocks To Watch For August 16, 2017', 'Wells Fargo Maintains Overweight on Agilent Technologies, Raises Price Target to $95', 'Stocks That Hit 52-Week Lows On Thursday', 'Jefferies Health Care Conference Begins Today, Presenters Include: Agilent Technologies, Civitas Solutions, Aeri Pharmaceuticals, Alkermes, Alnylam Pharmaceuticals, Heron Therapeutics', 'Barclays Maintains Overweight on Agilent Technologies, Raises Price Target to $83', 'Stocks That Hit 52-Week Highs On Wednesday', 'Agilent Technologies Q2 Adj. EPS $0.71 Beats $0.61 Estimate, Sales $1.24B Beat $1.21B Estimate', '45 Biggest Movers From Yesterday', \"Shares of several healthcare companies are trading lower with the broader market after the US expanded its trade blacklist to include China's top AI firms. The US also will increase its tariffs on $250 billion worth of goods from 25% to 30% on Oct 15.\", '8 Stocks You Should Be Watching Today', '7 Biggest Price Target Changes For Wednesday', 'Agilent Sees Q1 Adj. EPS $0.80-$0.81 vs $0.84 Estimate, Sales $1.34B-$1.355B vs $1.38B Est.', 'Stocks That Hit 52-Week Lows On Monday', 'JANA 13F Shows Liquidated Stakes In Alibaba, Agilent, US Steel, SVMK, Electronic Arts, Dollar Tree', 'Shares of several healthcare companies are trading higher in sympathy with the overall market after the Chinese Minister of Commerce said the leaders of the U.S. and China are set to meet in Washington D.C in early October. Investors hope the meeting could bring the two countries closer to a trade deal.', 'Agilent Sees Q4 Adj. EPS $0.60-$0.62 vs $0.60 Est., Sales $1.15B-$1.17B vs $1.15B Est.; FY17 Adj. EPS $2.29-$2.31 vs $2.23 Est., Sales $4.435B-$4.455B vs $4.41B Est.', 'A Peek Into The Markets: U.S. Stock Futures Decline Ahead Of Economic Data', \"Top 10 Movers Via Benzinga Pro's Screener Tool For Morning of Friday., August 16, 2019\", 'Deutsche Bank Maintains Buy on Agilent Technologies, Inc. Common Stock, Lowers Price Target to $85', 'Agilent Sees Q3 Adj. EPS $0.49-$0.51 vs $0.53 Est., Sales $1.06B-$1.08B vs $1.08B Est.', 'Shares of several healthcare companies are trading higher following Senate passage of a $2 trillion economic stimulus package, which has lifted stocks across sectors.', 'UBS Initiates Coverage On Agilent Technologies with Buy Rating, Announces $92 Price Target', '10 Biggest Price Target Changes For Friday', 'Stocks That Hit 52-Week Highs On Thursday', 'Phillips 66 Says it Has Agreed to Repurchase 35M Shares of Phillips 66 Common Stock from Wholly-owned Subsidiary of Berkshire Hathaway', 'Earnings Scheduled For November 20, 2017', 'Agilent Reports Purchase Of Cobalt Light Systems For £40M In Cash', \"Shares of many Healthcare companies are trading higher as markets rebound from the recent volatility caused by uncertainty regarding US-China trade talks. Also, lawmakers were not able to pass a bill that would end 'surprise medical bills'.\", 'Agilent Reports Has Become Top-Level Sponsor Of My Green Lab', 'Agilent Reports Dako PD-L1 IHC 28-8 PharmDx Approved For 2 New Indications: Urothelial Carcinoma, Squamous Cell Carcinoma Of Head And Neck', 'Shares of several healthcare companies are trading higher in sympathy with the overall market as it rebounds from a selloff caused by coronavirus fears.', 'Twist Bioscience Reports Settlement Deal With Agilent; Co. Will Pay Agilent $22.5M', 'Hearing Pershing Square Reports 2.9M Share Stake In Agilent', 'Agilent Reports Q4 Adj. EPS $0.67 vs $0.62 Est., Sales $1.19B vs $1.17B Est.', 'Stocks That Hit 52-Week Highs On Monday', 'Pot Stocks, ETFs, Top News And Data From The Cannabis Industry This Week', 'A Peek Into The Markets: US Stock Futures Tumble Ahead Of Economic Reports', '10 Stocks To Watch For August 14, 2018', 'Agilent to Buy Multiplicom for €68M in Cash', \"Benzinga Pro's Top 10 Most-Searched Tickers For Morning of Tuesday, July 16, 2019\", 'Agilent Technologies, Inc. Q4 EPS $0.81 Beats $0.74 Estimate, Sales $1.29B Beat $1.25B Estimate', \"Agilent Technologies Files Second Civil Action Against Changzhou Pannatek to 'Protect Intellectual Property'\", '13F From JANA Shows Cut Stake In Agilent', '18 Biggest Mid-Day Gainers For Wednesday', \"6 Stocks Moving In Monday's After-Hours Session\", 'Agilent Spikes to High of $60.40 on Volume', 'UPDATE: Agilent Raises FY19 Adj. EPS Guidance From $3-$3.05 To $3.03-$3.07 vs $3.05 Estimate, Sales From $5.13B-$5.17B To $5.15B-$5.19B vs $5.17B Est.', \"12 Stocks Moving In Tuesday's After-Hours Session\", 'Agilent Companion Diagnostic Gains Expanded FDA Approval In Cervical Cancer', \"Benzinga's Top Upgrades, Downgrades For June 11, 2019\", 'Agilent Technologies Signs Agreement To Acquire Lasergen For $105M', \"Pressure Biosciences CEO On Its Beaten Down Stock: 'We Can Now Begin To Focus On The Area That Is Most Important'\", 'Wells Fargo Initiates Coverage On Agilent Technologies with Overweight Rating, Announces $100 Price Target', 'Agilent Technologies shares are trading higher after the company reported better-than-expected Q3 EPS and sales results. The company also issued FY19 EPS above analyst estimates.', 'Agilent Sees Q2 Adj. EPS $0.70-$0.72 vs $0.72 Estimate, Sales $1.255B-$1.27B vs $1.27B Est.; Raises FY19 Guidance', 'CFRA Maintains Hold on Agilent Technologies, Lowers Price Target to $85', '7 Stocks To Watch For November 20, 2017', \"10 Stocks Moving In Monday's After-Hours Session\", 'Agilent Reports Deal with Agendia for Molecular Cancer Diagnostics', 'Agilent Files Civil Lawsuit against Shanghai Echrom Electronic Technology Co.', \"Agilent Technologies Receives FDA Approval For Use Of Dako PD-L1 For Treatment With Merck's KEYTRUDA In Gastric or Gastroesophageal Junction Cancer\", 'Agilent, University of Duisburg-Essen Announce Collaboration Agreement', 'Agilent Technologies shares are trading lower after the company reported Q1 earnings.', 'Stocks That Hit 52-Week Highs On Friday', \"3 Things Deutsche Bank Likes About Agilent's Q3, And One Thing To Be Cautious Of\", \"Cowen Says Views Potential Twist-Agilent Settlement As 'a likely clearing event for additional investment in TWST'\", \"Shares of several gold companies are trading higher amid heightened US-China trade tensions. Concerns of a trade war have led investors into 'safe-haven' assets such as gold.\", 'Stocks That Hit 52-Week Highs On Thursday', 'Needham Downgrades Agilent Technologies to Hold, Announces $85 Price Target', 'Barclays Downgrades Agilent Technologies to Equal-Weight, Lowers Price Target to $78', \"There's A New Trading Tool That Allows Traders To Trade Cannabis With Leverage\", 'Earnings Scheduled For May 14, 2019', 'A Life Science Tools And Diagnostics Pair Trade: Goldman Recommends Buying Agilent, Moving to Sidelines On Thermo Fisher', 'Earnings Scheduled For August 14, 2018', 'Morgan Stanley Maintains Overweight on Agilent Technologies, Lowers Price Target to $91.00', \"Benzinga's Top Upgrades, Downgrades For January 3, 2020\", 'Stifel Nicolaus Initiates Coverage On Agilent Technologies with Hold Rating, Announces $85 Price Target', 'Stocks That Hit 52-Week Highs On Friday', 'Agilent Sees Q1 Adj. EPS $0.71-$0.73 vs $0.72 Estimate, Sales $1.265B-$1.28B vs $1.27B Est.', 'Stocks That Hit 52-Week Highs On Friday', 'Earnings Scheduled For November 25, 2019', 'Shares of several companies in the auto dealer space are trading higher amid positive market sentiment. Speculation some coronavirus hotspots leveling off has raised hopes of a return to economic activity, which could mean a rebound in consumer spending.', 'Shares of diagnostics and research companies are trading higher in sympathy with Syneos Health, which reported strong Q2 results and raised FY19 guidance.', 'Earnings Scheduled For August 15, 2017', \"Benzinga's Top Upgrades, Downgrades For March 15, 2019\", 'UBS Maintains Neutral on Agilent Technologies, Lowers Price Target to $84', 'Agilent Sees Q1 Adj. EPS $0.55-$0.57 vs $0.60 Est., Sales $1.145B-$1.165B vs $1.15B Est.', 'Agilent Technologies Reports Q4 EPS $0.59 vs. Est. $0.52, Rev. $1.11B vs. Est. $1.07B', '6 Stocks To Watch For May 14, 2019', 'Traders Circulating Chatter That Cowen Upgraded Agilent', 'Morgan Stanley Maintains Overweight on Agilent Technologies, Raises Price Target to $84', '12 Biggest Mid-Day Gainers For Wednesday', \"7 Stock's Moving In Monday's After-Hours Session\", 'UBS Maintains Neutral on Agilent Technologies, Raises Price Target to $87', 'Shares of several software companies are trading lower as the coronavirus cases surge outside of China. NOTE: The virus has raised fear of a global economic slowdown.', 'The Week Ahead: Coindesk Conference, Walmart And Retailers Close Out Earnings Season', '10 Stocks To Watch For February 20, 2019', \"25 Stocks Moving In Tuesday's Pre-Market Session\", 'Shares of several healthcare companies are trading lower in sympathy with the overall market on continued downward momentum caused by the coronavirus. The virus has had a negative impact on the global economy.', 'Morgan Stanley Upgrades Agilent Technologies To Overweight', 'Bank of America Downgrades Agilent Technologies to Neutral', 'Agilent Raises Qtr. Dividend From $0.13/Share To $0.149/Share', 'Agilent Technologies Inc Says In January 2020, Net Revenue Was Negatively Impacted Due To The Public Health Crisis In China; Says In Jan 2020, Net Revenue Negatively Impacted Also Due To Extension Of Lunar New Year Resulting In Fewer Selling Days In Month', '10 Biggest Price Target Changes For Tuesday', \"Pershing Square Sees 'Substantial Opportunity' For Improvement In Agilent's A.N Business Performance\", 'Agilent Technologies shares are trading lower after the company reported worse-than-expected Q2 EPS and sales results; the company also announced weak Q3 sales guidance.', \"46 Stocks Moving In Thursday's Mid-Day Session\", \"Ariel Chairman John Rogers Thinks Current Market Is 'Once In A Lifetime Opportunity To Buy Stocks'\", 'Shares of several healthcare companies are trading lower amid market weakness as growing coronavirus concerns in the US weigh on equities.', 'Agilent Technologies Sees FY17 Rev. $4.35B-$4.37B vs. Est. $4.35B, EPS $2.10-$2.16 vs. Est. $2.19; Q4 Rev. $1.04-$1.04B vs. Est. $1.08B, EPS $0.48-$0.50 vs. Est. $0.53', 'Goldman Sachs Healthcare CEOs Unscripted Conference Taking Place Today; Presenters Include Agilent, Bluebird Bio, Boston Scientific, Alexion, Eli Lilly, and Alnylam', 'Agilent shares are trading lower. Not seeing any news to justify the price action.', 'Earnings Scheduled For May 21, 2020', 'Agilent Names Koh Boon Hwee Chair', 'Agilent Technologies shares are trading higher after the company reported better-than-expected Q3 EPS and sales results. The company also issued FY19 EPS above analyst estimates.', '71 Biggest Movers From Friday', '50 Biggest Movers From Yesterday', \"20 Stocks Moving In Tuesday's Pre-Market Session\", \"Benzinga's Top Upgrades, Downgrades For July 16, 2019\", 'Agilent to Acquire Assets of Ultra Scientific, No Financial Terms Disclosed', \"Goldman's 7 Favorite Biotech Ideas For 2016\", \"Benzinga's Top Upgrades, Downgrades For November 15, 2019\", 'Cowen Annual Healthcare Conference Concludes Today; Presenters Include Agilent Tech, Incyte, GW Pharma, Teva Pharma, NantKwest, Seattle Genetics, And Celgene', 'Hearing Thermo Fisher In Talks To Buy Agilent', 'Stocks That Hit 52-Week Highs On Friday', '10 Stocks To Watch For November 20, 2018', 'Bank of America Maintains Buy on Agilent Technologies, Inc. Common Stock, Lowers Price Target to $82', 'Q3 Earnings Preview For Agilent Technologies', 'Agilent Reports Q1 Adj. EPS $0.53 vs $0.49 Est., Sales $1.07B vs $1.05B Est.', 'Stocks That Hit 52-Week Highs On Thursday', 'UPDATE: Alnylam, Agilent Deal Has Initial Term Of 5 Years, With Automatic Renewal Terms OF 2 Years Absent Earlier Termination, No Further Terms Disclosed', 'Agilent Announces Settlement of Key Intellectual Property Case in China', 'UBS Downgrades Agilent Technologies to Neutral, Announces $82 Price Target', '5 Biggest Price Target Changes For Tuesday', \"Benzinga's Top Upgrades, Downgrades For January 4, 2017\", 'Pershing Square 13F Shows Raised Stake In Agilent By 11.4% To 3.25M Shares', \"41 Healthcare Stocks Moving In Tuesday's Pre-Market Session\", '13F Filing From Tiger Global Shows Dissolved Stake In Activision, Agilent, Altria, and American Express', 'Agilent Technologies Sees Q3 Adj. EPS $0.71-$0.73 vs $0.73 Est., Sales $1.225B-$1.245B vs $1.27B Est. Sees FY19 Adj. EPS $3.03-$3.07 vs $3.07 Est., Sales $5.085B-$5.125B vs $5.19B Est.', 'Agilent to Acquire ACEA Biosciences for $250M in Cash', \"36 Stocks Moving In Tuesday's Mid-Day Session\", 'Stocks That Hit 52-Week Highs On Friday', 'A Peek Into The Markets: U.S. Stock Futures Gain Ahead Of Economic Reports']\n"
     ]
    }
   ],
   "source": [
    "import numpy as np\n",
    "\n",
    "headlines_array = np.array(df)\n",
    "np.random.shuffle(headlines_array)\n",
    "headlines_list = list(headlines_array[:,1])\n",
    "\n",
    "print(headlines_list)"
   ]
  },
  {
   "cell_type": "code",
   "execution_count": 34,
   "id": "ab73bf91",
   "metadata": {},
   "outputs": [],
   "source": [
    "# %%capture\n",
    "\n",
    "# !pip install git+https://github.com/huggingface/datasets.git\n",
    "# #!pip install git+https://github.com/huggingface/transformers.git\n",
    "\n",
    "# !pip install transformers==4.28.0\n",
    "\n",
    "# # Monitor the training process\n",
    "# !pip install wandb"
   ]
  },
  {
   "cell_type": "code",
   "execution_count": 45,
   "id": "fb1e213e",
   "metadata": {},
   "outputs": [],
   "source": [
    "#!huggingface-cli login # write_to_hub_token   copy here from huggingface -> settings -> access tokens -> your new write token instead of read token."
   ]
  },
  {
   "cell_type": "code",
   "execution_count": 36,
   "id": "210a3c75",
   "metadata": {},
   "outputs": [
    {
     "name": "stdout",
     "output_type": "stream",
     "text": [
      "We are using the device cuda:0 - NVIDIA GeForce RTX 3060 Laptop GPU\n"
     ]
    }
   ],
   "source": [
    "import torch\n",
    "cuda_id = 0 # 0 for google colab and 1 for Titan XP on local computer\n",
    "device = torch.device(\"cuda:%s\" % cuda_id if torch.cuda.is_available() else \"cpu\")\n",
    "device_name = torch.cuda.get_device_name(cuda_id) if torch.cuda.is_available() else \"cpu\"\n",
    "print(\"We are using the device %s - %s\" % (device, device_name))"
   ]
  },
  {
   "cell_type": "code",
   "execution_count": 37,
   "id": "ae5009e9",
   "metadata": {},
   "outputs": [
    {
     "name": "stdout",
     "output_type": "stream",
     "text": [
      "Thu Sep 21 13:36:36 2023       \n",
      "+-----------------------------------------------------------------------------+\n",
      "| NVIDIA-SMI 516.01       Driver Version: 516.01       CUDA Version: 11.7     |\n",
      "|-------------------------------+----------------------+----------------------+\n",
      "| GPU  Name            TCC/WDDM | Bus-Id        Disp.A | Volatile Uncorr. ECC |\n",
      "| Fan  Temp  Perf  Pwr:Usage/Cap|         Memory-Usage | GPU-Util  Compute M. |\n",
      "|                               |                      |               MIG M. |\n",
      "|===============================+======================+======================|\n",
      "|   0  NVIDIA GeForce ... WDDM  | 00000000:01:00.0 Off |                  N/A |\n",
      "| N/A   52C    P8    10W /  N/A |      0MiB /  6144MiB |      0%      Default |\n",
      "|                               |                      |                  N/A |\n",
      "+-------------------------------+----------------------+----------------------+\n",
      "                                                                               \n",
      "+-----------------------------------------------------------------------------+\n",
      "| Processes:                                                                  |\n",
      "|  GPU   GI   CI        PID   Type   Process name                  GPU Memory |\n",
      "|        ID   ID                                                   Usage      |\n",
      "|=============================================================================|\n",
      "|  No running processes found                                                 |\n",
      "+-----------------------------------------------------------------------------+\n"
     ]
    }
   ],
   "source": [
    "!nvidia-smi"
   ]
  },
  {
   "cell_type": "code",
   "execution_count": 38,
   "metadata": {},
   "outputs": [],
   "source": [
    "#Getting the tokenizer and the model\n",
    "\n",
    "from transformers import AutoTokenizer, AutoModelForSequenceClassification\n",
    "  \n",
    "tokenizer = AutoTokenizer.from_pretrained(\"ProsusAI/finbert\")\n",
    "\n",
    "model = AutoModelForSequenceClassification.from_pretrained(\"ProsusAI/finbert\")"
   ]
  },
  {
   "cell_type": "code",
   "execution_count": 39,
   "id": "38d009ff",
   "metadata": {},
   "outputs": [
    {
     "name": "stdout",
     "output_type": "stream",
     "text": [
      "{'input_ids': tensor([[  101,  6661,  1997,  ...,     0,     0,     0],\n",
      "        [  101,  7051, 23054,  ...,     0,     0,     0],\n",
      "        [  101, 29003,  3372,  ...,     0,     0,     0],\n",
      "        ...,\n",
      "        [  101,  4029, 15768,  ...,     0,     0,     0],\n",
      "        [  101, 15768,  2008,  ...,     0,     0,     0],\n",
      "        [  101,  1037, 19043,  ...,     0,     0,     0]]), 'token_type_ids': tensor([[0, 0, 0,  ..., 0, 0, 0],\n",
      "        [0, 0, 0,  ..., 0, 0, 0],\n",
      "        [0, 0, 0,  ..., 0, 0, 0],\n",
      "        ...,\n",
      "        [0, 0, 0,  ..., 0, 0, 0],\n",
      "        [0, 0, 0,  ..., 0, 0, 0],\n",
      "        [0, 0, 0,  ..., 0, 0, 0]]), 'attention_mask': tensor([[1, 1, 1,  ..., 0, 0, 0],\n",
      "        [1, 1, 1,  ..., 0, 0, 0],\n",
      "        [1, 1, 1,  ..., 0, 0, 0],\n",
      "        ...,\n",
      "        [1, 1, 1,  ..., 0, 0, 0],\n",
      "        [1, 1, 1,  ..., 0, 0, 0],\n",
      "        [1, 1, 1,  ..., 0, 0, 0]])}\n"
     ]
    }
   ],
   "source": [
    "#That's where the headlines get tokenized to be inputted into model\n",
    "\n",
    "inputs = tokenizer(headlines_list, padding = True, truncation = True, return_tensors='pt')\n",
    "print(inputs)\n",
    "\n",
    "# error: TypeError: TextEncodeInput must be Union[TextInputSequence, Tuple[InputSequence, InputSequence]]"
   ]
  },
  {
   "cell_type": "code",
   "execution_count": 40,
   "id": "f3c6deac",
   "metadata": {},
   "outputs": [
    {
     "name": "stdout",
     "output_type": "stream",
     "text": [
      "torch.Size([300, 3])\n"
     ]
    }
   ],
   "source": [
    "#inference\n",
    "\n",
    "outputs = model(**inputs)\n",
    "print(outputs.logits.shape)"
   ]
  },
  {
   "cell_type": "code",
   "execution_count": 41,
   "id": "e53271be",
   "metadata": {},
   "outputs": [
    {
     "name": "stdout",
     "output_type": "stream",
     "text": [
      "tensor([[0.0097, 0.9712, 0.0191],\n",
      "        [0.6343, 0.2615, 0.1042],\n",
      "        [0.0998, 0.0086, 0.8916],\n",
      "        [0.0898, 0.1119, 0.7982],\n",
      "        [0.2087, 0.0812, 0.7101],\n",
      "        [0.9346, 0.0413, 0.0240],\n",
      "        [0.2664, 0.0084, 0.7252],\n",
      "        [0.9533, 0.0230, 0.0237],\n",
      "        [0.3243, 0.0072, 0.6685],\n",
      "        [0.7427, 0.0106, 0.2467],\n",
      "        [0.8976, 0.0197, 0.0827],\n",
      "        [0.0221, 0.0941, 0.8838],\n",
      "        [0.0111, 0.8633, 0.1255],\n",
      "        [0.4149, 0.3134, 0.2717],\n",
      "        [0.8601, 0.0086, 0.1313],\n",
      "        [0.2617, 0.0697, 0.6687],\n",
      "        [0.8245, 0.0288, 0.1467],\n",
      "        [0.2114, 0.0820, 0.7065],\n",
      "        [0.0231, 0.1224, 0.8546],\n",
      "        [0.0249, 0.6361, 0.3391],\n",
      "        [0.9216, 0.0218, 0.0566],\n",
      "        [0.1028, 0.0304, 0.8668],\n",
      "        [0.3141, 0.0070, 0.6790],\n",
      "        [0.9478, 0.0205, 0.0317],\n",
      "        [0.1223, 0.0185, 0.8593],\n",
      "        [0.7499, 0.0710, 0.1790],\n",
      "        [0.0352, 0.0659, 0.8988],\n",
      "        [0.0341, 0.0181, 0.9479],\n",
      "        [0.0312, 0.0734, 0.8954],\n",
      "        [0.0807, 0.1315, 0.7879],\n",
      "        [0.1966, 0.0386, 0.7648],\n",
      "        [0.1133, 0.0124, 0.8743],\n",
      "        [0.9196, 0.0084, 0.0719],\n",
      "        [0.0249, 0.2061, 0.7690],\n",
      "        [0.0080, 0.9724, 0.0196],\n",
      "        [0.0505, 0.0120, 0.9375],\n",
      "        [0.0551, 0.0914, 0.8535],\n",
      "        [0.0462, 0.1403, 0.8135],\n",
      "        [0.2617, 0.0697, 0.6687],\n",
      "        [0.9393, 0.0210, 0.0398],\n",
      "        [0.0153, 0.9122, 0.0725],\n",
      "        [0.0233, 0.1396, 0.8371],\n",
      "        [0.3188, 0.2384, 0.4428],\n",
      "        [0.9339, 0.0286, 0.0375],\n",
      "        [0.3569, 0.5024, 0.1407],\n",
      "        [0.2402, 0.1827, 0.5771],\n",
      "        [0.8010, 0.0882, 0.1108],\n",
      "        [0.0319, 0.8598, 0.1083],\n",
      "        [0.0382, 0.0239, 0.9378],\n",
      "        [0.0319, 0.0574, 0.9107],\n",
      "        [0.7881, 0.1008, 0.1111],\n",
      "        [0.2771, 0.0217, 0.7012],\n",
      "        [0.0285, 0.0215, 0.9500],\n",
      "        [0.1045, 0.0155, 0.8800],\n",
      "        [0.0237, 0.1623, 0.8140],\n",
      "        [0.0346, 0.0639, 0.9015],\n",
      "        [0.0197, 0.0571, 0.9232],\n",
      "        [0.0745, 0.0094, 0.9161],\n",
      "        [0.7088, 0.0402, 0.2510],\n",
      "        [0.0467, 0.2984, 0.6550],\n",
      "        [0.0259, 0.5643, 0.4098],\n",
      "        [0.9054, 0.0110, 0.0836],\n",
      "        [0.7088, 0.0402, 0.2510],\n",
      "        [0.9566, 0.0227, 0.0207],\n",
      "        [0.0187, 0.9484, 0.0329],\n",
      "        [0.0353, 0.0714, 0.8933],\n",
      "        [0.0726, 0.0290, 0.8983],\n",
      "        [0.8994, 0.0080, 0.0926],\n",
      "        [0.0311, 0.0792, 0.8898],\n",
      "        [0.9196, 0.0206, 0.0598],\n",
      "        [0.9373, 0.0278, 0.0349],\n",
      "        [0.0585, 0.0132, 0.9283],\n",
      "        [0.8838, 0.0159, 0.1002],\n",
      "        [0.0305, 0.0677, 0.9017],\n",
      "        [0.8669, 0.0166, 0.1165],\n",
      "        [0.3918, 0.2524, 0.3558],\n",
      "        [0.2884, 0.0122, 0.6995],\n",
      "        [0.4075, 0.0154, 0.5772],\n",
      "        [0.0317, 0.0158, 0.9525],\n",
      "        [0.3729, 0.3500, 0.2772],\n",
      "        [0.9355, 0.0413, 0.0232],\n",
      "        [0.9285, 0.0183, 0.0532],\n",
      "        [0.7736, 0.1261, 0.1003],\n",
      "        [0.9567, 0.0228, 0.0205],\n",
      "        [0.0707, 0.3862, 0.5431],\n",
      "        [0.0320, 0.0586, 0.9093],\n",
      "        [0.7600, 0.0074, 0.2326],\n",
      "        [0.8142, 0.0100, 0.1758],\n",
      "        [0.3714, 0.0071, 0.6215],\n",
      "        [0.8655, 0.0146, 0.1199],\n",
      "        [0.0929, 0.0175, 0.8896],\n",
      "        [0.9013, 0.0512, 0.0474],\n",
      "        [0.0301, 0.0862, 0.8837],\n",
      "        [0.9510, 0.0240, 0.0250],\n",
      "        [0.5578, 0.0158, 0.4264],\n",
      "        [0.0455, 0.0152, 0.9393],\n",
      "        [0.5089, 0.0249, 0.4661],\n",
      "        [0.6990, 0.0933, 0.2077],\n",
      "        [0.4415, 0.3301, 0.2284],\n",
      "        [0.0355, 0.0533, 0.9111],\n",
      "        [0.9477, 0.0243, 0.0280],\n",
      "        [0.1888, 0.0837, 0.7275],\n",
      "        [0.0839, 0.7853, 0.1308],\n",
      "        [0.0554, 0.1191, 0.8255],\n",
      "        [0.6625, 0.0162, 0.3212],\n",
      "        [0.0247, 0.0311, 0.9442],\n",
      "        [0.0239, 0.1579, 0.8182],\n",
      "        [0.8499, 0.1284, 0.0217],\n",
      "        [0.1639, 0.4459, 0.3902],\n",
      "        [0.0263, 0.6455, 0.3282],\n",
      "        [0.9502, 0.0229, 0.0268],\n",
      "        [0.8084, 0.1200, 0.0717],\n",
      "        [0.0601, 0.0115, 0.9284],\n",
      "        [0.0319, 0.6005, 0.3676],\n",
      "        [0.0072, 0.9746, 0.0182],\n",
      "        [0.7848, 0.1183, 0.0970],\n",
      "        [0.0079, 0.9729, 0.0192],\n",
      "        [0.1044, 0.0158, 0.8798],\n",
      "        [0.0463, 0.1200, 0.8336],\n",
      "        [0.9250, 0.0352, 0.0398],\n",
      "        [0.0561, 0.0262, 0.9177],\n",
      "        [0.2057, 0.0238, 0.7705],\n",
      "        [0.9281, 0.0279, 0.0440],\n",
      "        [0.0079, 0.9723, 0.0199],\n",
      "        [0.6078, 0.0228, 0.3693],\n",
      "        [0.0201, 0.0753, 0.9046],\n",
      "        [0.3976, 0.4198, 0.1825],\n",
      "        [0.6222, 0.1201, 0.2577],\n",
      "        [0.0250, 0.0334, 0.9416],\n",
      "        [0.0294, 0.0664, 0.9042],\n",
      "        [0.0946, 0.0098, 0.8956],\n",
      "        [0.9390, 0.0363, 0.0247],\n",
      "        [0.9566, 0.0227, 0.0207],\n",
      "        [0.9510, 0.0249, 0.0240],\n",
      "        [0.0976, 0.1102, 0.7922],\n",
      "        [0.3551, 0.4720, 0.1729],\n",
      "        [0.6115, 0.2753, 0.1132],\n",
      "        [0.0244, 0.1297, 0.8459],\n",
      "        [0.4409, 0.3042, 0.2548],\n",
      "        [0.1498, 0.1241, 0.7261],\n",
      "        [0.2476, 0.1789, 0.5735],\n",
      "        [0.0715, 0.2504, 0.6781],\n",
      "        [0.1949, 0.7746, 0.0305],\n",
      "        [0.2104, 0.0827, 0.7069],\n",
      "        [0.9085, 0.0118, 0.0797],\n",
      "        [0.0887, 0.4833, 0.4281],\n",
      "        [0.8638, 0.0147, 0.1215],\n",
      "        [0.9535, 0.0208, 0.0256],\n",
      "        [0.9049, 0.0642, 0.0309],\n",
      "        [0.4172, 0.0423, 0.5405],\n",
      "        [0.0081, 0.9704, 0.0214],\n",
      "        [0.0219, 0.0933, 0.8849],\n",
      "        [0.9187, 0.0122, 0.0691],\n",
      "        [0.0538, 0.3359, 0.6103],\n",
      "        [0.1269, 0.2213, 0.6518],\n",
      "        [0.0679, 0.2896, 0.6425],\n",
      "        [0.8615, 0.0225, 0.1161],\n",
      "        [0.0338, 0.0648, 0.9014],\n",
      "        [0.9299, 0.0195, 0.0507],\n",
      "        [0.0109, 0.9335, 0.0556],\n",
      "        [0.0352, 0.0165, 0.9483],\n",
      "        [0.9250, 0.0178, 0.0572],\n",
      "        [0.2617, 0.0697, 0.6687],\n",
      "        [0.7752, 0.1161, 0.1087],\n",
      "        [0.2440, 0.0435, 0.7125],\n",
      "        [0.0358, 0.9393, 0.0248],\n",
      "        [0.0676, 0.0198, 0.9127],\n",
      "        [0.0388, 0.1236, 0.8376],\n",
      "        [0.5328, 0.3031, 0.1640],\n",
      "        [0.0110, 0.9389, 0.0501],\n",
      "        [0.0240, 0.0500, 0.9261],\n",
      "        [0.9450, 0.0258, 0.0292],\n",
      "        [0.1382, 0.1267, 0.7351],\n",
      "        [0.0119, 0.9672, 0.0209],\n",
      "        [0.0333, 0.0208, 0.9458],\n",
      "        [0.2176, 0.2219, 0.5605],\n",
      "        [0.3819, 0.2786, 0.3396],\n",
      "        [0.9246, 0.0491, 0.0263],\n",
      "        [0.4513, 0.0152, 0.5336],\n",
      "        [0.0399, 0.1685, 0.7916],\n",
      "        [0.2504, 0.0700, 0.6796],\n",
      "        [0.4581, 0.0117, 0.5303],\n",
      "        [0.0242, 0.1639, 0.8119],\n",
      "        [0.0772, 0.0109, 0.9119],\n",
      "        [0.0282, 0.9544, 0.0174],\n",
      "        [0.4009, 0.0074, 0.5918],\n",
      "        [0.8822, 0.0134, 0.1043],\n",
      "        [0.9308, 0.0466, 0.0226],\n",
      "        [0.0755, 0.0600, 0.8644],\n",
      "        [0.0472, 0.0145, 0.9383],\n",
      "        [0.4136, 0.4574, 0.1290],\n",
      "        [0.2451, 0.0829, 0.6719],\n",
      "        [0.0289, 0.0294, 0.9417],\n",
      "        [0.0162, 0.9527, 0.0311],\n",
      "        [0.0289, 0.0662, 0.9048],\n",
      "        [0.0800, 0.0102, 0.9098],\n",
      "        [0.0321, 0.0257, 0.9422],\n",
      "        [0.7811, 0.1552, 0.0636],\n",
      "        [0.0289, 0.8659, 0.1052],\n",
      "        [0.1728, 0.1548, 0.6724],\n",
      "        [0.2435, 0.2887, 0.4678],\n",
      "        [0.0943, 0.5898, 0.3159],\n",
      "        [0.9140, 0.0238, 0.0622],\n",
      "        [0.8740, 0.0557, 0.0703],\n",
      "        [0.0607, 0.4686, 0.4707],\n",
      "        [0.9377, 0.0112, 0.0511],\n",
      "        [0.0250, 0.5360, 0.4391],\n",
      "        [0.7231, 0.0110, 0.2658],\n",
      "        [0.1054, 0.6729, 0.2216],\n",
      "        [0.5911, 0.0167, 0.3922],\n",
      "        [0.9574, 0.0243, 0.0183],\n",
      "        [0.8438, 0.0752, 0.0810],\n",
      "        [0.4482, 0.3570, 0.1948],\n",
      "        [0.0360, 0.0574, 0.9066],\n",
      "        [0.0758, 0.6101, 0.3141],\n",
      "        [0.0911, 0.0107, 0.8982],\n",
      "        [0.0158, 0.9250, 0.0592],\n",
      "        [0.9382, 0.0163, 0.0455],\n",
      "        [0.3546, 0.0108, 0.6347],\n",
      "        [0.0080, 0.9679, 0.0241],\n",
      "        [0.2114, 0.0820, 0.7065],\n",
      "        [0.0616, 0.0309, 0.9075],\n",
      "        [0.8531, 0.0112, 0.1357],\n",
      "        [0.7900, 0.1682, 0.0419],\n",
      "        [0.2504, 0.0700, 0.6796],\n",
      "        [0.0422, 0.3134, 0.6444],\n",
      "        [0.4814, 0.1442, 0.3744],\n",
      "        [0.1418, 0.0099, 0.8483],\n",
      "        [0.0212, 0.0833, 0.8955],\n",
      "        [0.0666, 0.0419, 0.8915],\n",
      "        [0.0241, 0.1337, 0.8422],\n",
      "        [0.4205, 0.3563, 0.2231],\n",
      "        [0.0256, 0.5793, 0.3951],\n",
      "        [0.2957, 0.0103, 0.6939],\n",
      "        [0.2114, 0.0820, 0.7065],\n",
      "        [0.4335, 0.4044, 0.1622],\n",
      "        [0.2114, 0.0820, 0.7065],\n",
      "        [0.0224, 0.0860, 0.8915],\n",
      "        [0.9460, 0.0291, 0.0249],\n",
      "        [0.9546, 0.0229, 0.0225],\n",
      "        [0.0244, 0.1598, 0.8158],\n",
      "        [0.0247, 0.5623, 0.4130],\n",
      "        [0.4613, 0.1026, 0.4360],\n",
      "        [0.3342, 0.2460, 0.4198],\n",
      "        [0.2068, 0.2958, 0.4974],\n",
      "        [0.0357, 0.0629, 0.9014],\n",
      "        [0.6077, 0.0716, 0.3207],\n",
      "        [0.9173, 0.0214, 0.0613],\n",
      "        [0.2501, 0.2274, 0.5225],\n",
      "        [0.0809, 0.0798, 0.8393],\n",
      "        [0.8669, 0.0166, 0.1165],\n",
      "        [0.0094, 0.9721, 0.0185],\n",
      "        [0.0130, 0.8806, 0.1064],\n",
      "        [0.0347, 0.0595, 0.9057],\n",
      "        [0.1176, 0.1086, 0.7738],\n",
      "        [0.0077, 0.9730, 0.0192],\n",
      "        [0.9248, 0.0184, 0.0568],\n",
      "        [0.0369, 0.7103, 0.2527],\n",
      "        [0.7760, 0.0921, 0.1320],\n",
      "        [0.0163, 0.9535, 0.0301],\n",
      "        [0.0443, 0.1404, 0.8153],\n",
      "        [0.9546, 0.0159, 0.0295],\n",
      "        [0.0073, 0.9745, 0.0181],\n",
      "        [0.0613, 0.3541, 0.5846],\n",
      "        [0.6520, 0.0097, 0.3384],\n",
      "        [0.0087, 0.9711, 0.0203],\n",
      "        [0.1254, 0.0367, 0.8379],\n",
      "        [0.0481, 0.0161, 0.9358],\n",
      "        [0.0113, 0.9356, 0.0530],\n",
      "        [0.0194, 0.0657, 0.9149],\n",
      "        [0.0440, 0.0287, 0.9273],\n",
      "        [0.9574, 0.0243, 0.0183],\n",
      "        [0.0941, 0.1091, 0.7968],\n",
      "        [0.2023, 0.0178, 0.7799],\n",
      "        [0.0757, 0.1169, 0.8074],\n",
      "        [0.0261, 0.5547, 0.4191],\n",
      "        [0.0283, 0.0172, 0.9544],\n",
      "        [0.0592, 0.0197, 0.9212],\n",
      "        [0.0255, 0.5775, 0.3971],\n",
      "        [0.0452, 0.0172, 0.9376],\n",
      "        [0.1069, 0.0212, 0.8719],\n",
      "        [0.2114, 0.0820, 0.7065],\n",
      "        [0.0319, 0.0655, 0.9026],\n",
      "        [0.2033, 0.3264, 0.4703],\n",
      "        [0.0729, 0.1181, 0.8090],\n",
      "        [0.2839, 0.4776, 0.2384],\n",
      "        [0.2504, 0.0700, 0.6796],\n",
      "        [0.0281, 0.0196, 0.9523],\n",
      "        [0.1018, 0.6398, 0.2584],\n",
      "        [0.0902, 0.0979, 0.8119],\n",
      "        [0.0595, 0.1101, 0.8305],\n",
      "        [0.0257, 0.6525, 0.3218],\n",
      "        [0.8852, 0.0086, 0.1062],\n",
      "        [0.0773, 0.1585, 0.7642],\n",
      "        [0.0340, 0.0347, 0.9313],\n",
      "        [0.0928, 0.0623, 0.8450],\n",
      "        [0.0925, 0.0090, 0.8984],\n",
      "        [0.0657, 0.4483, 0.4860],\n",
      "        [0.2114, 0.0820, 0.7065],\n",
      "        [0.8560, 0.0661, 0.0779]], grad_fn=<SoftmaxBackward0>)\n"
     ]
    }
   ],
   "source": [
    "#Postprocessing with softmax\n",
    "\n",
    "import torch\n",
    "\n",
    "predictions = torch.nn.functional.softmax(outputs.logits, dim=-1)\n",
    "print(predictions)"
   ]
  },
  {
   "cell_type": "code",
   "execution_count": 42,
   "id": "d510ee0a",
   "metadata": {},
   "outputs": [
    {
     "data": {
      "text/plain": [
       "{0: 'positive', 1: 'negative', 2: 'neutral'}"
      ]
     },
     "execution_count": 42,
     "metadata": {},
     "output_type": "execute_result"
    }
   ],
   "source": [
    "#Model classes\n",
    "\n",
    "model.config.id2label"
   ]
  },
  {
   "cell_type": "code",
   "execution_count": 43,
   "id": "27ba280a",
   "metadata": {},
   "outputs": [
    {
     "data": {
      "text/html": [
       "<div>\n",
       "<style scoped>\n",
       "    .dataframe tbody tr th:only-of-type {\n",
       "        vertical-align: middle;\n",
       "    }\n",
       "\n",
       "    .dataframe tbody tr th {\n",
       "        vertical-align: top;\n",
       "    }\n",
       "\n",
       "    .dataframe thead th {\n",
       "        text-align: right;\n",
       "    }\n",
       "</style>\n",
       "<table border=\"1\" class=\"dataframe\">\n",
       "  <thead>\n",
       "    <tr style=\"text-align: right;\">\n",
       "      <th></th>\n",
       "      <th>Headline</th>\n",
       "      <th>Positive</th>\n",
       "      <th>Negative</th>\n",
       "      <th>Neutral</th>\n",
       "    </tr>\n",
       "  </thead>\n",
       "  <tbody>\n",
       "    <tr>\n",
       "      <th>0</th>\n",
       "      <td>Shares of several healthcare companies are tra...</td>\n",
       "      <td>0.009684</td>\n",
       "      <td>0.971235</td>\n",
       "      <td>0.019081</td>\n",
       "    </tr>\n",
       "    <tr>\n",
       "      <th>1</th>\n",
       "      <td>Wells Fargo Maintains Overweight on Agilent Te...</td>\n",
       "      <td>0.634309</td>\n",
       "      <td>0.261483</td>\n",
       "      <td>0.104208</td>\n",
       "    </tr>\n",
       "    <tr>\n",
       "      <th>2</th>\n",
       "      <td>Agilent Technologies to Acquire Advanced Analy...</td>\n",
       "      <td>0.099768</td>\n",
       "      <td>0.008599</td>\n",
       "      <td>0.891633</td>\n",
       "    </tr>\n",
       "    <tr>\n",
       "      <th>3</th>\n",
       "      <td>30 Stocks Moving In Wednesday's Pre-Market Ses...</td>\n",
       "      <td>0.089818</td>\n",
       "      <td>0.111947</td>\n",
       "      <td>0.798235</td>\n",
       "    </tr>\n",
       "    <tr>\n",
       "      <th>4</th>\n",
       "      <td>A Peek Into The Markets: U.S. Stock Futures Ri...</td>\n",
       "      <td>0.208652</td>\n",
       "      <td>0.081245</td>\n",
       "      <td>0.710103</td>\n",
       "    </tr>\n",
       "  </tbody>\n",
       "</table>\n",
       "</div>"
      ],
      "text/plain": [
       "                                            Headline  Positive  Negative  \\\n",
       "0  Shares of several healthcare companies are tra...  0.009684  0.971235   \n",
       "1  Wells Fargo Maintains Overweight on Agilent Te...  0.634309  0.261483   \n",
       "2  Agilent Technologies to Acquire Advanced Analy...  0.099768  0.008599   \n",
       "3  30 Stocks Moving In Wednesday's Pre-Market Ses...  0.089818  0.111947   \n",
       "4  A Peek Into The Markets: U.S. Stock Futures Ri...  0.208652  0.081245   \n",
       "\n",
       "    Neutral  \n",
       "0  0.019081  \n",
       "1  0.104208  \n",
       "2  0.891633  \n",
       "3  0.798235  \n",
       "4  0.710103  "
      ]
     },
     "execution_count": 43,
     "metadata": {},
     "output_type": "execute_result"
    }
   ],
   "source": [
    "#Formatting the results as a pandas data frame\n",
    "\n",
    "import pandas as pd\n",
    "\n",
    "#Headline #Positive #Negative #Neutral\n",
    "positive = predictions[:, 0].tolist()\n",
    "negative = predictions[:, 1].tolist()\n",
    "neutral = predictions[:, 2].tolist()\n",
    "\n",
    "table = {'Headline':headlines_list,\n",
    "         \"Positive\":positive,\n",
    "         \"Negative\":negative, \n",
    "         \"Neutral\":neutral}\n",
    "      \n",
    "df = pd.DataFrame(table, columns = [\"Headline\", \"Positive\", \"Negative\", \"Neutral\"])\n",
    "\n",
    "df.head(5)"
   ]
  },
  {
   "cell_type": "code",
   "execution_count": 44,
   "id": "12529831",
   "metadata": {},
   "outputs": [
    {
     "name": "stderr",
     "output_type": "stream",
     "text": [
      "Failed to detect the name of this notebook, you can set it manually with the WANDB_NOTEBOOK_NAME environment variable to enable code saving.\n",
      "\u001b[34m\u001b[1mwandb\u001b[0m: Currently logged in as: \u001b[33mgli-mrunal\u001b[0m. Use \u001b[1m`wandb login --relogin`\u001b[0m to force relogin\n"
     ]
    },
    {
     "data": {
      "text/html": [
       "Tracking run with wandb version 0.15.10"
      ],
      "text/plain": [
       "<IPython.core.display.HTML object>"
      ]
     },
     "metadata": {},
     "output_type": "display_data"
    },
    {
     "data": {
      "text/html": [
       "Run data is saved locally in <code>c:\\Users\\mruna\\Downloads\\Sentiment_Analysis\\wandb\\run-20230921_133718-imftcxio</code>"
      ],
      "text/plain": [
       "<IPython.core.display.HTML object>"
      ]
     },
     "metadata": {},
     "output_type": "display_data"
    },
    {
     "data": {
      "text/html": [
       "Syncing run <strong><a href='https://wandb.ai/gli-mrunal/1_Sentiment_Analysis/runs/imftcxio' target=\"_blank\">rose-waterfall-1</a></strong> to <a href='https://wandb.ai/gli-mrunal/1_Sentiment_Analysis' target=\"_blank\">Weights & Biases</a> (<a href='https://wandb.me/run' target=\"_blank\">docs</a>)<br/>"
      ],
      "text/plain": [
       "<IPython.core.display.HTML object>"
      ]
     },
     "metadata": {},
     "output_type": "display_data"
    },
    {
     "data": {
      "text/html": [
       " View project at <a href='https://wandb.ai/gli-mrunal/1_Sentiment_Analysis' target=\"_blank\">https://wandb.ai/gli-mrunal/1_Sentiment_Analysis</a>"
      ],
      "text/plain": [
       "<IPython.core.display.HTML object>"
      ]
     },
     "metadata": {},
     "output_type": "display_data"
    },
    {
     "data": {
      "text/html": [
       " View run at <a href='https://wandb.ai/gli-mrunal/1_Sentiment_Analysis/runs/imftcxio' target=\"_blank\">https://wandb.ai/gli-mrunal/1_Sentiment_Analysis/runs/imftcxio</a>"
      ],
      "text/plain": [
       "<IPython.core.display.HTML object>"
      ]
     },
     "metadata": {},
     "output_type": "display_data"
    },
    {
     "data": {
      "text/html": [
       "Waiting for W&B process to finish... <strong style=\"color:green\">(success).</strong>"
      ],
      "text/plain": [
       "<IPython.core.display.HTML object>"
      ]
     },
     "metadata": {},
     "output_type": "display_data"
    },
    {
     "data": {
      "application/vnd.jupyter.widget-view+json": {
       "model_id": "6f772beeb94c4315abf3706c8a8d7fac",
       "version_major": 2,
       "version_minor": 0
      },
      "text/plain": [
       "VBox(children=(Label(value='0.089 MB of 0.089 MB uploaded (0.000 MB deduped)\\r'), FloatProgress(value=1.0, max…"
      ]
     },
     "metadata": {},
     "output_type": "display_data"
    },
    {
     "data": {
      "text/html": [
       " View run <strong style=\"color:#cdcd00\">rose-waterfall-1</strong> at: <a href='https://wandb.ai/gli-mrunal/1_Sentiment_Analysis/runs/imftcxio' target=\"_blank\">https://wandb.ai/gli-mrunal/1_Sentiment_Analysis/runs/imftcxio</a><br/>Synced 5 W&B file(s), 1 media file(s), 1 artifact file(s) and 0 other file(s)"
      ],
      "text/plain": [
       "<IPython.core.display.HTML object>"
      ]
     },
     "metadata": {},
     "output_type": "display_data"
    },
    {
     "data": {
      "text/html": [
       "Find logs at: <code>.\\wandb\\run-20230921_133718-imftcxio\\logs</code>"
      ],
      "text/plain": [
       "<IPython.core.display.HTML object>"
      ]
     },
     "metadata": {},
     "output_type": "display_data"
    }
   ],
   "source": [
    "#Logging the pandas table as a WandB Table\n",
    "#!pip install wandb\n",
    "#!wandb login YOUR_API_KEY --relogin\n",
    "\n",
    "\n",
    "# all the !pip commmand are executed in anaconda terminal\n",
    "\n",
    "import wandb\n",
    "\n",
    "wandb.init(project=\"1_Sentiment_Analysis\")\n",
    "wandb.run.log({\"Financial Sentiment Analysis Table\" : wandb.Table(dataframe=df)})\n",
    "wandb.run.finish()"
   ]
  },
  {
   "cell_type": "code",
   "execution_count": null,
   "id": "decdd156",
   "metadata": {},
   "outputs": [],
   "source": []
  }
 ],
 "metadata": {
  "kernelspec": {
   "display_name": "Python 3 (ipykernel)",
   "language": "python",
   "name": "python3"
  },
  "language_info": {
   "codemirror_mode": {
    "name": "ipython",
    "version": 3
   },
   "file_extension": ".py",
   "mimetype": "text/x-python",
   "name": "python",
   "nbconvert_exporter": "python",
   "pygments_lexer": "ipython3",
   "version": "3.9.18"
  }
 },
 "nbformat": 4,
 "nbformat_minor": 5
}
